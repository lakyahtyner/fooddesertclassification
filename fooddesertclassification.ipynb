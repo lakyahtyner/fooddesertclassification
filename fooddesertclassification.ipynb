{
  "cells": [
    {
      "cell_type": "code",
      "execution_count": null,
      "id": "72e596ed",
      "metadata": {
        "id": "72e596ed"
      },
      "outputs": [],
      "source": [
        "from pprint import pprint\n",
        "import pandas as pd\n",
        "import numpy as np\n",
        "import seaborn as sns\n",
        "import matplotlib.pyplot as plt\n",
        "from collections import Counter\n",
        "from imblearn.over_sampling import RandomOverSampler\n",
        "from matplotlib import style\n",
        "%matplotlib inline\n",
        "\n",
        "from sklearn.model_selection import train_test_split\n",
        "from sklearn.preprocessing import OneHotEncoder\n",
        "from sklearn.preprocessing import StandardScaler\n",
        "from sklearn.preprocessing import MinMaxScaler\n",
        "from sklearn.model_selection import cross_val_score, GridSearchCV, RandomizedSearchCV\n",
        "from sklearn.metrics import accuracy_score\n",
        "from sklearn.metrics import confusion_matrix\n",
        "from sklearn.metrics import f1_score\n",
        "from sklearn.metrics import roc_auc_score\n",
        "from sklearn.ensemble import RandomForestClassifier\n",
        "from sklearn.metrics import RocCurveDisplay\n",
        "from sklearn.model_selection import RandomizedSearchCV\n",
        "from sklearn.cluster import KMeans\n",
        "\n",
        "from xgboost import plot_importance\n",
        "from xgboost import plot_tree\n",
        "import xgboost as xgb\n",
        "from scipy.stats import uniform, randint\n",
        "from xgboost.sklearn import XGBClassifier\n",
        "\n",
        "\n",
        "from torch.utils.data import Dataset, DataLoader\n",
        "import torch.nn.functional as F\n",
        "import torch.nn as nn\n",
        "import torch"
      ]
    },
    {
      "cell_type": "code",
      "execution_count": null,
      "id": "430480bc",
      "metadata": {
        "id": "430480bc"
      },
      "outputs": [],
      "source": [
        "data = pd.read_excel(\"/content/FoodAccessResearchAtlasData2015.xlsx\", sheet_name = 'Food Access Research Atlas')"
      ]
    },
    {
      "cell_type": "code",
      "execution_count": null,
      "id": "c233b786",
      "metadata": {
        "id": "c233b786"
      },
      "outputs": [],
      "source": [
        "feature_info = pd.read_excel(\"/content/FoodAccessResearchAtlasData2015.xlsx\", sheet_name = 'Variable Lookup')"
      ]
    },
    {
      "cell_type": "code",
      "execution_count": null,
      "id": "4862824b",
      "metadata": {
        "id": "4862824b",
        "outputId": "de22537f-cd99-48da-a21a-0d94b224e021",
        "colab": {
          "base_uri": "https://localhost:8080/",
          "height": 299
        }
      },
      "outputs": [
        {
          "output_type": "execute_result",
          "data": {
            "text/plain": [
              "   CensusTract    State   County  Urban  POP2010  OHU2010  GroupQuartersFlag  \\\n",
              "0   1001020100  Alabama  Autauga      1     1912      693                  0   \n",
              "1   1001020200  Alabama  Autauga      1     2170      743                  0   \n",
              "2   1001020300  Alabama  Autauga      1     3373     1256                  0   \n",
              "3   1001020400  Alabama  Autauga      1     4386     1722                  0   \n",
              "4   1001020500  Alabama  Autauga      1    10766     4082                  0   \n",
              "\n",
              "   NUMGQTRS  PCTGQTRS  LILATracts_1And10  ...  TractSeniors  TractWhite  \\\n",
              "0         0  0.000000                  0  ...           221        1622   \n",
              "1       181  0.083410                  0  ...           214         888   \n",
              "2         0  0.000000                  0  ...           439        2576   \n",
              "3         0  0.000000                  0  ...           904        4086   \n",
              "4       181  0.016812                  0  ...          1126        8666   \n",
              "\n",
              "   TractBlack  TractAsian  TractNHOPI  TractAIAN  TractOMultir  TractHispanic  \\\n",
              "0         217          14           0         14            45             44   \n",
              "1        1217           5           0          5            55             75   \n",
              "2         647          17           5         11           117             87   \n",
              "3         193          18           4         11            74             85   \n",
              "4        1437         296           9         48           310            355   \n",
              "\n",
              "   TractHUNV  TractSNAP  \n",
              "0         26        112  \n",
              "1         87        202  \n",
              "2        108        120  \n",
              "3         19         82  \n",
              "4        198        488  \n",
              "\n",
              "[5 rows x 147 columns]"
            ],
            "text/html": [
              "\n",
              "  <div id=\"df-40e36a41-7087-4ae3-9d5c-d3c3a7e4d67f\">\n",
              "    <div class=\"colab-df-container\">\n",
              "      <div>\n",
              "<style scoped>\n",
              "    .dataframe tbody tr th:only-of-type {\n",
              "        vertical-align: middle;\n",
              "    }\n",
              "\n",
              "    .dataframe tbody tr th {\n",
              "        vertical-align: top;\n",
              "    }\n",
              "\n",
              "    .dataframe thead th {\n",
              "        text-align: right;\n",
              "    }\n",
              "</style>\n",
              "<table border=\"1\" class=\"dataframe\">\n",
              "  <thead>\n",
              "    <tr style=\"text-align: right;\">\n",
              "      <th></th>\n",
              "      <th>CensusTract</th>\n",
              "      <th>State</th>\n",
              "      <th>County</th>\n",
              "      <th>Urban</th>\n",
              "      <th>POP2010</th>\n",
              "      <th>OHU2010</th>\n",
              "      <th>GroupQuartersFlag</th>\n",
              "      <th>NUMGQTRS</th>\n",
              "      <th>PCTGQTRS</th>\n",
              "      <th>LILATracts_1And10</th>\n",
              "      <th>...</th>\n",
              "      <th>TractSeniors</th>\n",
              "      <th>TractWhite</th>\n",
              "      <th>TractBlack</th>\n",
              "      <th>TractAsian</th>\n",
              "      <th>TractNHOPI</th>\n",
              "      <th>TractAIAN</th>\n",
              "      <th>TractOMultir</th>\n",
              "      <th>TractHispanic</th>\n",
              "      <th>TractHUNV</th>\n",
              "      <th>TractSNAP</th>\n",
              "    </tr>\n",
              "  </thead>\n",
              "  <tbody>\n",
              "    <tr>\n",
              "      <th>0</th>\n",
              "      <td>1001020100</td>\n",
              "      <td>Alabama</td>\n",
              "      <td>Autauga</td>\n",
              "      <td>1</td>\n",
              "      <td>1912</td>\n",
              "      <td>693</td>\n",
              "      <td>0</td>\n",
              "      <td>0</td>\n",
              "      <td>0.000000</td>\n",
              "      <td>0</td>\n",
              "      <td>...</td>\n",
              "      <td>221</td>\n",
              "      <td>1622</td>\n",
              "      <td>217</td>\n",
              "      <td>14</td>\n",
              "      <td>0</td>\n",
              "      <td>14</td>\n",
              "      <td>45</td>\n",
              "      <td>44</td>\n",
              "      <td>26</td>\n",
              "      <td>112</td>\n",
              "    </tr>\n",
              "    <tr>\n",
              "      <th>1</th>\n",
              "      <td>1001020200</td>\n",
              "      <td>Alabama</td>\n",
              "      <td>Autauga</td>\n",
              "      <td>1</td>\n",
              "      <td>2170</td>\n",
              "      <td>743</td>\n",
              "      <td>0</td>\n",
              "      <td>181</td>\n",
              "      <td>0.083410</td>\n",
              "      <td>0</td>\n",
              "      <td>...</td>\n",
              "      <td>214</td>\n",
              "      <td>888</td>\n",
              "      <td>1217</td>\n",
              "      <td>5</td>\n",
              "      <td>0</td>\n",
              "      <td>5</td>\n",
              "      <td>55</td>\n",
              "      <td>75</td>\n",
              "      <td>87</td>\n",
              "      <td>202</td>\n",
              "    </tr>\n",
              "    <tr>\n",
              "      <th>2</th>\n",
              "      <td>1001020300</td>\n",
              "      <td>Alabama</td>\n",
              "      <td>Autauga</td>\n",
              "      <td>1</td>\n",
              "      <td>3373</td>\n",
              "      <td>1256</td>\n",
              "      <td>0</td>\n",
              "      <td>0</td>\n",
              "      <td>0.000000</td>\n",
              "      <td>0</td>\n",
              "      <td>...</td>\n",
              "      <td>439</td>\n",
              "      <td>2576</td>\n",
              "      <td>647</td>\n",
              "      <td>17</td>\n",
              "      <td>5</td>\n",
              "      <td>11</td>\n",
              "      <td>117</td>\n",
              "      <td>87</td>\n",
              "      <td>108</td>\n",
              "      <td>120</td>\n",
              "    </tr>\n",
              "    <tr>\n",
              "      <th>3</th>\n",
              "      <td>1001020400</td>\n",
              "      <td>Alabama</td>\n",
              "      <td>Autauga</td>\n",
              "      <td>1</td>\n",
              "      <td>4386</td>\n",
              "      <td>1722</td>\n",
              "      <td>0</td>\n",
              "      <td>0</td>\n",
              "      <td>0.000000</td>\n",
              "      <td>0</td>\n",
              "      <td>...</td>\n",
              "      <td>904</td>\n",
              "      <td>4086</td>\n",
              "      <td>193</td>\n",
              "      <td>18</td>\n",
              "      <td>4</td>\n",
              "      <td>11</td>\n",
              "      <td>74</td>\n",
              "      <td>85</td>\n",
              "      <td>19</td>\n",
              "      <td>82</td>\n",
              "    </tr>\n",
              "    <tr>\n",
              "      <th>4</th>\n",
              "      <td>1001020500</td>\n",
              "      <td>Alabama</td>\n",
              "      <td>Autauga</td>\n",
              "      <td>1</td>\n",
              "      <td>10766</td>\n",
              "      <td>4082</td>\n",
              "      <td>0</td>\n",
              "      <td>181</td>\n",
              "      <td>0.016812</td>\n",
              "      <td>0</td>\n",
              "      <td>...</td>\n",
              "      <td>1126</td>\n",
              "      <td>8666</td>\n",
              "      <td>1437</td>\n",
              "      <td>296</td>\n",
              "      <td>9</td>\n",
              "      <td>48</td>\n",
              "      <td>310</td>\n",
              "      <td>355</td>\n",
              "      <td>198</td>\n",
              "      <td>488</td>\n",
              "    </tr>\n",
              "  </tbody>\n",
              "</table>\n",
              "<p>5 rows × 147 columns</p>\n",
              "</div>\n",
              "      <button class=\"colab-df-convert\" onclick=\"convertToInteractive('df-40e36a41-7087-4ae3-9d5c-d3c3a7e4d67f')\"\n",
              "              title=\"Convert this dataframe to an interactive table.\"\n",
              "              style=\"display:none;\">\n",
              "        \n",
              "  <svg xmlns=\"http://www.w3.org/2000/svg\" height=\"24px\"viewBox=\"0 0 24 24\"\n",
              "       width=\"24px\">\n",
              "    <path d=\"M0 0h24v24H0V0z\" fill=\"none\"/>\n",
              "    <path d=\"M18.56 5.44l.94 2.06.94-2.06 2.06-.94-2.06-.94-.94-2.06-.94 2.06-2.06.94zm-11 1L8.5 8.5l.94-2.06 2.06-.94-2.06-.94L8.5 2.5l-.94 2.06-2.06.94zm10 10l.94 2.06.94-2.06 2.06-.94-2.06-.94-.94-2.06-.94 2.06-2.06.94z\"/><path d=\"M17.41 7.96l-1.37-1.37c-.4-.4-.92-.59-1.43-.59-.52 0-1.04.2-1.43.59L10.3 9.45l-7.72 7.72c-.78.78-.78 2.05 0 2.83L4 21.41c.39.39.9.59 1.41.59.51 0 1.02-.2 1.41-.59l7.78-7.78 2.81-2.81c.8-.78.8-2.07 0-2.86zM5.41 20L4 18.59l7.72-7.72 1.47 1.35L5.41 20z\"/>\n",
              "  </svg>\n",
              "      </button>\n",
              "      \n",
              "  <style>\n",
              "    .colab-df-container {\n",
              "      display:flex;\n",
              "      flex-wrap:wrap;\n",
              "      gap: 12px;\n",
              "    }\n",
              "\n",
              "    .colab-df-convert {\n",
              "      background-color: #E8F0FE;\n",
              "      border: none;\n",
              "      border-radius: 50%;\n",
              "      cursor: pointer;\n",
              "      display: none;\n",
              "      fill: #1967D2;\n",
              "      height: 32px;\n",
              "      padding: 0 0 0 0;\n",
              "      width: 32px;\n",
              "    }\n",
              "\n",
              "    .colab-df-convert:hover {\n",
              "      background-color: #E2EBFA;\n",
              "      box-shadow: 0px 1px 2px rgba(60, 64, 67, 0.3), 0px 1px 3px 1px rgba(60, 64, 67, 0.15);\n",
              "      fill: #174EA6;\n",
              "    }\n",
              "\n",
              "    [theme=dark] .colab-df-convert {\n",
              "      background-color: #3B4455;\n",
              "      fill: #D2E3FC;\n",
              "    }\n",
              "\n",
              "    [theme=dark] .colab-df-convert:hover {\n",
              "      background-color: #434B5C;\n",
              "      box-shadow: 0px 1px 3px 1px rgba(0, 0, 0, 0.15);\n",
              "      filter: drop-shadow(0px 1px 2px rgba(0, 0, 0, 0.3));\n",
              "      fill: #FFFFFF;\n",
              "    }\n",
              "  </style>\n",
              "\n",
              "      <script>\n",
              "        const buttonEl =\n",
              "          document.querySelector('#df-40e36a41-7087-4ae3-9d5c-d3c3a7e4d67f button.colab-df-convert');\n",
              "        buttonEl.style.display =\n",
              "          google.colab.kernel.accessAllowed ? 'block' : 'none';\n",
              "\n",
              "        async function convertToInteractive(key) {\n",
              "          const element = document.querySelector('#df-40e36a41-7087-4ae3-9d5c-d3c3a7e4d67f');\n",
              "          const dataTable =\n",
              "            await google.colab.kernel.invokeFunction('convertToInteractive',\n",
              "                                                     [key], {});\n",
              "          if (!dataTable) return;\n",
              "\n",
              "          const docLinkHtml = 'Like what you see? Visit the ' +\n",
              "            '<a target=\"_blank\" href=https://colab.research.google.com/notebooks/data_table.ipynb>data table notebook</a>'\n",
              "            + ' to learn more about interactive tables.';\n",
              "          element.innerHTML = '';\n",
              "          dataTable['output_type'] = 'display_data';\n",
              "          await google.colab.output.renderOutput(dataTable, element);\n",
              "          const docLink = document.createElement('div');\n",
              "          docLink.innerHTML = docLinkHtml;\n",
              "          element.appendChild(docLink);\n",
              "        }\n",
              "      </script>\n",
              "    </div>\n",
              "  </div>\n",
              "  "
            ]
          },
          "metadata": {},
          "execution_count": 6
        }
      ],
      "source": [
        "data = pd.DataFrame(data)\n",
        "data.head()"
      ]
    },
    {
      "cell_type": "code",
      "source": [
        "#To check if any of the columns have null values\n",
        "data.isnull().values.any()"
      ],
      "metadata": {
        "colab": {
          "base_uri": "https://localhost:8080/"
        },
        "id": "N1NAjn_UjtbQ",
        "outputId": "e0bfdf8c-a326-4053-ff3c-eea787e5512b"
      },
      "id": "N1NAjn_UjtbQ",
      "execution_count": null,
      "outputs": [
        {
          "output_type": "execute_result",
          "data": {
            "text/plain": [
              "False"
            ]
          },
          "metadata": {},
          "execution_count": 7
        }
      ]
    },
    {
      "cell_type": "markdown",
      "source": [
        "##### Correlation Matrix\n",
        "\n",
        "This will express the extent to which two variables are linearly related to each other. "
      ],
      "metadata": {
        "id": "HfZoBFGdj4Tt"
      },
      "id": "HfZoBFGdj4Tt"
    },
    {
      "cell_type": "code",
      "execution_count": null,
      "id": "ca407570",
      "metadata": {
        "id": "ca407570",
        "colab": {
          "base_uri": "https://localhost:8080/",
          "height": 351
        },
        "outputId": "4b8bd40a-eba7-4060-f786-709d9fc1eb48"
      },
      "outputs": [
        {
          "output_type": "display_data",
          "data": {
            "text/plain": [
              "<Figure size 432x288 with 2 Axes>"
            ],
            "image/png": "[encoded data removed]"
          },
          "metadata": {
            "needs_background": "light"
          }
        }
      ],
      "source": [
        "correlation = data.corr(method = 'pearson').abs()\n",
        "hm = sns.heatmap(correlation, cmap = 'coolwarm')"
      ]
    },
    {
      "cell_type": "code",
      "execution_count": null,
      "id": "89525dcd",
      "metadata": {
        "id": "89525dcd",
        "outputId": "4090fa0c-ca92-4f87-d740-8e5b7f2263e9",
        "colab": {
          "base_uri": "https://localhost:8080/"
        }
      },
      "outputs": [
        {
          "output_type": "stream",
          "name": "stdout",
          "text": [
            "==== The columns that have been dropped ====\n",
            "['LATracts1', 'LATractsVehicle_20', 'LAPOP1_20', 'LALOWI1_20', 'lakids1', 'lawhite1', 'laaian1', 'laaian1share', 'lakids10', 'lakids10share', 'lakids20', 'lakids20share', 'lanhopi20share', 'TractAIAN']\n"
          ]
        },
        {
          "output_type": "stream",
          "name": "stderr",
          "text": [
            "/usr/local/lib/python3.7/dist-packages/ipykernel_launcher.py:3: DeprecationWarning: `np.bool` is a deprecated alias for the builtin `bool`. To silence this warning, use `bool` by itself. Doing this will not modify any behavior and is safe. If you specifically wanted the numpy scalar type, use `np.bool_` here.\n",
            "Deprecated in NumPy 1.20; for more details and guidance: https://numpy.org/devdocs/release/1.20.0-notes.html#deprecations\n",
            "  This is separate from the ipykernel package so we can avoid doing imports until\n"
          ]
        }
      ],
      "source": [
        "#Selecting the upper triangle to drop columns with value greater than 0.95\n",
        "\n",
        "upper = correlation.where(np.triu(np.ones(correlation.shape), k =1).astype(np.bool))\n",
        "drop_related = [column for column in upper.columns if any(upper[column] > 0.95)]\n",
        "print(\"==== The columns that have been dropped ====\")\n",
        "print(drop_related)"
      ]
    },
    {
      "cell_type": "code",
      "source": [
        "new_data = ['State', 'CensusTract', 'Urban', 'POP2010', 'LILATracts_halfAnd10', 'HUNVFlag',\n",
        "                  'LowIncomeTracts', 'PovertyRate', 'MedianFamilyIncome', 'LATracts_half',\n",
        "                  'lapophalfshare', 'lalowihalfshare', 'laseniorshalfshare', 'lawhitehalfshare', \n",
        "                  'lablackhalfshare', 'laasianhalfshare', 'lanhopihalfshare', 'laaianhalfshare', \n",
        "                  'laomultirhalfshare','lahisphalfshare', 'lahunvhalfshare', 'lasnaphalfshare']\n",
        "d = data[new_data].copy()\n",
        "\n",
        "state = d['State']"
      ],
      "metadata": {
        "id": "GIqNYcmRkmG-"
      },
      "id": "GIqNYcmRkmG-",
      "execution_count": null,
      "outputs": []
    },
    {
      "cell_type": "markdown",
      "source": [
        "#### Data Analysis"
      ],
      "metadata": {
        "id": "XHjtO4rKkthF"
      },
      "id": "XHjtO4rKkthF"
    },
    {
      "cell_type": "markdown",
      "source": [
        "##### Population Histogram"
      ],
      "metadata": {
        "id": "PHOAEgXzkykl"
      },
      "id": "PHOAEgXzkykl"
    },
    {
      "cell_type": "code",
      "source": [
        "d.hist(column='POP2010')"
      ],
      "metadata": {
        "colab": {
          "base_uri": "https://localhost:8080/",
          "height": 316
        },
        "id": "H5oQWg7DkmPD",
        "outputId": "13a8842c-7e16-4585-cd11-f54c8987c60e"
      },
      "id": "H5oQWg7DkmPD",
      "execution_count": null,
      "outputs": [
        {
          "output_type": "execute_result",
          "data": {
            "text/plain": [
              "array([[<matplotlib.axes._subplots.AxesSubplot object at 0x7f206f7a93d0>]],\n",
              "      dtype=object)"
            ]
          },
          "metadata": {},
          "execution_count": 11
        },
        {
          "output_type": "display_data",
          "data": {
            "text/plain": [
              "<Figure size 432x288 with 1 Axes>"
            ],
            "image/png": "[encoded data removed]"
          },
          "metadata": {
            "needs_background": "light"
          }
        }
      ]
    },
    {
      "cell_type": "markdown",
      "source": [
        "##### Flag for Urban Tract"
      ],
      "metadata": {
        "id": "-vhEuQdqk5tj"
      },
      "id": "-vhEuQdqk5tj"
    },
    {
      "cell_type": "code",
      "source": [
        "d.hist(column ='Urban')"
      ],
      "metadata": {
        "colab": {
          "base_uri": "https://localhost:8080/",
          "height": 316
        },
        "id": "MXA9_gPAkmVs",
        "outputId": "7ba1a293-761b-4e41-b881-472e0b5a26a2"
      },
      "id": "MXA9_gPAkmVs",
      "execution_count": null,
      "outputs": [
        {
          "output_type": "execute_result",
          "data": {
            "text/plain": [
              "array([[<matplotlib.axes._subplots.AxesSubplot object at 0x7f2068a961d0>]],\n",
              "      dtype=object)"
            ]
          },
          "metadata": {},
          "execution_count": 12
        },
        {
          "output_type": "display_data",
          "data": {
            "text/plain": [
              "<Figure size 432x288 with 1 Axes>"
            ],
            "image/png": "[encoded data removed]"
          },
          "metadata": {
            "needs_background": "light"
          }
        }
      ]
    },
    {
      "cell_type": "markdown",
      "source": [
        "##### Polulation Tract wrt States"
      ],
      "metadata": {
        "id": "c77gIESLlDdQ"
      },
      "id": "c77gIESLlDdQ"
    },
    {
      "cell_type": "code",
      "source": [
        "pop = d[['State', 'POP2010']]\n",
        "pop_tot = pop.groupby(['State']).agg(pop_count=('POP2010', 'sum'))\n",
        "pop_tot.plot.bar()"
      ],
      "metadata": {
        "colab": {
          "base_uri": "https://localhost:8080/",
          "height": 396
        },
        "id": "MiLfn2UclK5_",
        "outputId": "d6aca0ab-a168-41d5-c771-0063bf0e9e68"
      },
      "id": "MiLfn2UclK5_",
      "execution_count": null,
      "outputs": [
        {
          "output_type": "execute_result",
          "data": {
            "text/plain": [
              "<matplotlib.axes._subplots.AxesSubplot at 0x7f206f233a10>"
            ]
          },
          "metadata": {},
          "execution_count": 13
        },
        {
          "output_type": "display_data",
          "data": {
            "text/plain": [
              "<Figure size 432x288 with 1 Axes>"
            ],
            "image/png": "[encoded data removed]"
          },
          "metadata": {
            "needs_background": "light"
          }
        }
      ]
    },
    {
      "cell_type": "markdown",
      "source": [
        "##### Poverty Rate for States"
      ],
      "metadata": {
        "id": "j5cUJaVElOEs"
      },
      "id": "j5cUJaVElOEs"
    },
    {
      "cell_type": "code",
      "source": [
        "pr = d[['State', 'PovertyRate']]\n",
        "pr_tot = pr.groupby(['State']).agg(poverty=('PovertyRate', 'sum'))\n",
        "pr_tot.plot.bar()"
      ],
      "metadata": {
        "colab": {
          "base_uri": "https://localhost:8080/",
          "height": 385
        },
        "id": "0UuSV0QelUur",
        "outputId": "13f9b46e-c9f4-44bb-dbb8-710e1abb9e07"
      },
      "id": "0UuSV0QelUur",
      "execution_count": null,
      "outputs": [
        {
          "output_type": "execute_result",
          "data": {
            "text/plain": [
              "<matplotlib.axes._subplots.AxesSubplot at 0x7f206fb5a890>"
            ]
          },
          "metadata": {},
          "execution_count": 14
        },
        {
          "output_type": "display_data",
          "data": {
            "text/plain": [
              "<Figure size 432x288 with 1 Axes>"
            ],
            "image/png": "[encoded data removed]"
          },
          "metadata": {
            "needs_background": "light"
          }
        }
      ]
    },
    {
      "cell_type": "code",
      "source": [
        "#Exploratory data analysis 1.check for categorical columns \n",
        "d.info()\n",
        "\n",
        "#2. Check for any null values in the data set\n",
        "print(d.isnull().values.sum())\n",
        "\n",
        "#3. Check frequency distrubution among the cat col\n",
        "print(d['State'].value_counts())"
      ],
      "metadata": {
        "colab": {
          "base_uri": "https://localhost:8080/"
        },
        "id": "8mCxbWe-lZAX",
        "outputId": "eb380bb8-ef1f-4948-9012-ffbb8c49c5b6"
      },
      "id": "8mCxbWe-lZAX",
      "execution_count": null,
      "outputs": [
        {
          "output_type": "stream",
          "name": "stdout",
          "text": [
            "<class 'pandas.core.frame.DataFrame'>\n",
            "RangeIndex: 72864 entries, 0 to 72863\n",
            "Data columns (total 22 columns):\n",
            " #   Column                Non-Null Count  Dtype  \n",
            "---  ------                --------------  -----  \n",
            " 0   State                 72864 non-null  object \n",
            " 1   CensusTract           72864 non-null  int64  \n",
            " 2   Urban                 72864 non-null  int64  \n",
            " 3   POP2010               72864 non-null  int64  \n",
            " 4   LILATracts_halfAnd10  72864 non-null  int64  \n",
            " 5   HUNVFlag              72864 non-null  int64  \n",
            " 6   LowIncomeTracts       72864 non-null  int64  \n",
            " 7   PovertyRate           72864 non-null  float64\n",
            " 8   MedianFamilyIncome    72864 non-null  int64  \n",
            " 9   LATracts_half         72864 non-null  int64  \n",
            " 10  lapophalfshare        72864 non-null  float64\n",
            " 11  lalowihalfshare       72864 non-null  float64\n",
            " 12  laseniorshalfshare    72864 non-null  float64\n",
            " 13  lawhitehalfshare      72864 non-null  float64\n",
            " 14  lablackhalfshare      72864 non-null  float64\n",
            " 15  laasianhalfshare      72864 non-null  float64\n",
            " 16  lanhopihalfshare      72864 non-null  float64\n",
            " 17  laaianhalfshare       72864 non-null  float64\n",
            " 18  laomultirhalfshare    72864 non-null  float64\n",
            " 19  lahisphalfshare       72864 non-null  float64\n",
            " 20  lahunvhalfshare       72864 non-null  float64\n",
            " 21  lasnaphalfshare       72864 non-null  float64\n",
            "dtypes: float64(13), int64(8), object(1)\n",
            "memory usage: 12.2+ MB\n",
            "0\n",
            "California              8044\n",
            "Texas                   5258\n",
            "New York                4907\n",
            "Florida                 4214\n",
            "Pennsylvania            3218\n",
            "Illinois                3121\n",
            "Ohio                    2949\n",
            "Michigan                2774\n",
            "North Carolina          2192\n",
            "New Jersey              2007\n",
            "Georgia                 1965\n",
            "Virginia                1900\n",
            "Arizona                 1526\n",
            "Indiana                 1508\n",
            "Tennessee               1497\n",
            "Massachusetts           1476\n",
            "Washington              1455\n",
            "Maryland                1399\n",
            "Wisconsin               1395\n",
            "Missouri                1393\n",
            "Minnesota               1336\n",
            "Colorado                1249\n",
            "Alabama                 1179\n",
            "Louisiana               1143\n",
            "Kentucky                1115\n",
            "South Carolina          1103\n",
            "Oklahoma                1046\n",
            "Connecticut              832\n",
            "Oregon                   830\n",
            "Iowa                     825\n",
            "Kansas                   770\n",
            "Nevada                   687\n",
            "Arkansas                 686\n",
            "Mississippi              662\n",
            "Utah                     588\n",
            "Nebraska                 532\n",
            "New Mexico               499\n",
            "West Virginia            484\n",
            "Maine                    355\n",
            "Hawaii                   332\n",
            "Idaho                    298\n",
            "New Hampshire            295\n",
            "Montana                  271\n",
            "Rhode Island             242\n",
            "South Dakota             222\n",
            "Delaware                 218\n",
            "North Dakota             205\n",
            "Vermont                  184\n",
            "District of Columbia     179\n",
            "Alaska                   167\n",
            "Wyoming                  132\n",
            "Name: State, dtype: int64\n"
          ]
        }
      ]
    },
    {
      "cell_type": "markdown",
      "source": [
        "#### Handling Categorical Data\n",
        "\n",
        "Using OneHotEncoder() convert the categorical column('State') for training the model"
      ],
      "metadata": {
        "id": "oEL0snNvldrA"
      },
      "id": "oEL0snNvldrA"
    },
    {
      "cell_type": "code",
      "source": [
        "ohe = OneHotEncoder(handle_unknown='ignore')\n",
        "ohe_data = pd.DataFrame(ohe.fit_transform(d[['State']]).toarray())\n",
        "df = ohe_data.join(d)"
      ],
      "metadata": {
        "id": "wE228av-lb8B"
      },
      "id": "wE228av-lb8B",
      "execution_count": null,
      "outputs": []
    },
    {
      "cell_type": "code",
      "source": [
        "#Create dictionary with state abbreviations. Form: {index, abbreviation}\n",
        "\n",
        "#Abbreviations listed alphabetically according to full state names\n",
        "STATES = ['AL','AK','AZ','AR','CA','CO','CT',\n",
        "      'DE','DC','FL','GA','HI','ID','IL',\n",
        "      'IN','IA','KS','KY','LA','ME','MD',\n",
        "      'MA','MI','MN','MS','MO','MT','NE',\n",
        "      'NV','NH','NJ','NM','NY','NC','ND',\n",
        "      'OH','OK','OR','PA','RI','SC','SD',\n",
        "      'TN','TX','UT','VT','VA','WA','WV',\n",
        "      'WI','WY',\n",
        "    ]\n",
        "\n",
        "STATES_INDEXED = {}\n",
        "i = 0\n",
        "for state in STATES:\n",
        "    STATES_INDEXED.update({i : state})\n",
        "    i+=1\n",
        "\n",
        "df.rename(columns = STATES_INDEXED, inplace = True)"
      ],
      "metadata": {
        "id": "VLOBvq5xlvvh"
      },
      "id": "VLOBvq5xlvvh",
      "execution_count": null,
      "outputs": []
    },
    {
      "cell_type": "code",
      "source": [
        "df.drop('State', axis = 1, inplace = True)"
      ],
      "metadata": {
        "id": "-wisE9Itl_La"
      },
      "id": "-wisE9Itl_La",
      "execution_count": null,
      "outputs": []
    },
    {
      "cell_type": "code",
      "source": [
        "#X and y for the model\n",
        "x = df.drop(['LILATracts_halfAnd10'], axis=1).copy()\n",
        "y = df['LILATracts_halfAnd10']"
      ],
      "metadata": {
        "id": "7TOX3K2Al_SR"
      },
      "id": "7TOX3K2Al_SR",
      "execution_count": null,
      "outputs": []
    },
    {
      "cell_type": "markdown",
      "source": [
        "#### OverSampling the target variable"
      ],
      "metadata": {
        "id": "Y1OnWCPCmGHa"
      },
      "id": "Y1OnWCPCmGHa"
    },
    {
      "cell_type": "code",
      "source": [
        "sns.countplot(x = 'LILATracts_halfAnd10', data = df, palette = 'Set3' )"
      ],
      "metadata": {
        "colab": {
          "base_uri": "https://localhost:8080/",
          "height": 297
        },
        "id": "urmoOJlmmFZ-",
        "outputId": "13de9a24-bf67-434b-e187-ad5ceedb5c60"
      },
      "id": "urmoOJlmmFZ-",
      "execution_count": null,
      "outputs": [
        {
          "output_type": "execute_result",
          "data": {
            "text/plain": [
              "<matplotlib.axes._subplots.AxesSubplot at 0x7f206f431c50>"
            ]
          },
          "metadata": {},
          "execution_count": 23
        },
        {
          "output_type": "display_data",
          "data": {
            "text/plain": [
              "<Figure size 432x288 with 1 Axes>"
            ],
            "image/png": "[encoded data removed]"
          },
          "metadata": {
            "needs_background": "light"
          }
        }
      ]
    },
    {
      "cell_type": "code",
      "source": [
        "var_0 = df[df['LILATracts_halfAnd10'] == 0]\n",
        "var_1 = df[df['LILATracts_halfAnd10'] == 1]\n",
        "\n",
        "print(var_0.shape, var_1.shape)"
      ],
      "metadata": {
        "colab": {
          "base_uri": "https://localhost:8080/"
        },
        "id": "AasO-tiTl_W3",
        "outputId": "eb244056-689d-44b4-c0c5-2d4309f0392f"
      },
      "id": "AasO-tiTl_W3",
      "execution_count": null,
      "outputs": [
        {
          "output_type": "stream",
          "name": "stdout",
          "text": [
            "(52308, 72) (20556, 72)\n"
          ]
        }
      ]
    },
    {
      "cell_type": "code",
      "source": [
        "ros = RandomOverSampler(sampling_strategy = 'minority')\n",
        "x_sam, y_sam = ros.fit_resample(x, y)\n",
        "\n",
        "print(x_sam.shape, y_sam.shape)"
      ],
      "metadata": {
        "colab": {
          "base_uri": "https://localhost:8080/"
        },
        "id": "4W-uqGyKl_ab",
        "outputId": "e0fc65e2-9b39-48f0-f926-83d7c826c4b3"
      },
      "id": "4W-uqGyKl_ab",
      "execution_count": null,
      "outputs": [
        {
          "output_type": "stream",
          "name": "stdout",
          "text": [
            "(104616, 71) (104616,)\n"
          ]
        }
      ]
    },
    {
      "cell_type": "code",
      "source": [
        "X = pd.DataFrame(x_sam)\n",
        "Y = pd.DataFrame(y_sam)\n",
        "Y.values.ravel()\n",
        "\n",
        "#Check the difference between dataset size between oversampling and after\n",
        "\n",
        "print('Original dataset {}'. format(Counter(y)))\n",
        "print('Resampled dataset{}'. format(Counter(y_sam)))"
      ],
      "metadata": {
        "colab": {
          "base_uri": "https://localhost:8080/"
        },
        "id": "_y3P3wQHmQyA",
        "outputId": "89a429b6-b75b-4dec-ba2e-d78562b27c0f"
      },
      "id": "_y3P3wQHmQyA",
      "execution_count": null,
      "outputs": [
        {
          "output_type": "stream",
          "name": "stdout",
          "text": [
            "Original dataset Counter({0: 52308, 1: 20556})\n",
            "Resampled datasetCounter({0: 52308, 1: 52308})\n"
          ]
        }
      ]
    },
    {
      "cell_type": "markdown",
      "source": [
        "#### Splitting data into training, validation and testing sets"
      ],
      "metadata": {
        "id": "yLjrIKOomZMt"
      },
      "id": "yLjrIKOomZMt"
    },
    {
      "cell_type": "code",
      "source": [
        "#Split into Train, Validation, and Test Sets\n",
        "train_size=0.8\n",
        "\n",
        "#First split training data from the rest of the data\n",
        "X_train, X_rest, y_train, y_rest = train_test_split(X, Y, train_size=0.8, random_state=56)\n",
        "\n",
        "#Then split the rest of the data into test and validation\n",
        "test_size = 0.5\n",
        "X_val, X_test, y_val, y_test = train_test_split(X_rest,y_rest, test_size=0.5, random_state=35)\n"
      ],
      "metadata": {
        "id": "ILxVMTklyJAK"
      },
      "id": "ILxVMTklyJAK",
      "execution_count": null,
      "outputs": []
    },
    {
      "cell_type": "markdown",
      "source": [
        "#### Normalizing the data"
      ],
      "metadata": {
        "id": "XXmSCvNSnkA4"
      },
      "id": "XXmSCvNSnkA4"
    },
    {
      "cell_type": "code",
      "source": [
        "mms = MinMaxScaler()\n",
        "\n",
        "X_train = mms.fit_transform(X_train)\n",
        "X_test = mms.transform(X_test)"
      ],
      "metadata": {
        "id": "lRM11WVrmQ5i"
      },
      "id": "lRM11WVrmQ5i",
      "execution_count": null,
      "outputs": []
    },
    {
      "cell_type": "markdown",
      "source": [
        "# Random Forest"
      ],
      "metadata": {
        "id": "TWS8Z2XlMPPB"
      },
      "id": "TWS8Z2XlMPPB"
    },
    {
      "cell_type": "code",
      "source": [
        "#Train base model\n",
        "base_model = RandomForestClassifier()\n",
        "base_model.fit(X_train, y_train)\n",
        "base_model.score(X_rest, y_rest)"
      ],
      "metadata": {
        "colab": {
          "base_uri": "https://localhost:8080/"
        },
        "id": "uDmcp9fKMSRg",
        "outputId": "be3a197e-9e32-4fb3-8ec7-076506fe0d40"
      },
      "id": "uDmcp9fKMSRg",
      "execution_count": null,
      "outputs": [
        {
          "output_type": "stream",
          "name": "stderr",
          "text": [
            "/usr/local/lib/python3.7/dist-packages/ipykernel_launcher.py:3: DataConversionWarning: A column-vector y was passed when a 1d array was expected. Please change the shape of y to (n_samples,), for example using ravel().\n",
            "  This is separate from the ipykernel package so we can avoid doing imports until\n",
            "/usr/local/lib/python3.7/dist-packages/sklearn/base.py:444: UserWarning: X has feature names, but RandomForestClassifier was fitted without feature names\n",
            "  f\"X has feature names, but {self.__class__.__name__} was fitted without\"\n"
          ]
        },
        {
          "output_type": "execute_result",
          "data": {
            "text/plain": [
              "0.9768686675587842"
            ]
          },
          "metadata": {},
          "execution_count": 33
        }
      ]
    },
    {
      "cell_type": "code",
      "source": [
        "y_predicted = base_model.predict(X_test)\n",
        "cm = confusion_matrix(y_test, y_predicted)\n",
        "cm"
      ],
      "metadata": {
        "colab": {
          "base_uri": "https://localhost:8080/"
        },
        "id": "ztD3WJk7PoMi",
        "outputId": "c9cbbbef-3f9b-43ab-da99-6eb373785856"
      },
      "id": "ztD3WJk7PoMi",
      "execution_count": null,
      "outputs": [
        {
          "output_type": "execute_result",
          "data": {
            "text/plain": [
              "array([[5245,   38],\n",
              "       [  29, 5150]])"
            ]
          },
          "metadata": {},
          "execution_count": 34
        }
      ]
    },
    {
      "cell_type": "code",
      "source": [
        "# Number of trees in random forest\n",
        "n_estimators = [int(x) for x in np.linspace(start = 20, stop = 150, num = 5)]\n",
        "# Number of features to consider at every split\n",
        "max_features = ['auto', 'sqrt']\n",
        "# Maximum number of levels in tree\n",
        "max_depth = [int(x) for x in np.linspace(10, 110, num = 4)]\n",
        "max_depth.append(None)\n",
        "# Minimum number of samples required to split a node\n",
        "min_samples_split = [2, 5, 10, 12, 15]\n",
        "# Minimum number of samples required at each leaf node\n",
        "min_samples_leaf = [1, 2, 4]\n",
        "# Method of selecting samples for training each tree\n",
        "bootstrap = [True, False]\n",
        "\n",
        "# Create the random grid\n",
        "random_grid = {'n_estimators': n_estimators,\n",
        "               'max_features': max_features,\n",
        "               'max_depth': max_depth,\n",
        "               'min_samples_split': min_samples_split,\n",
        "               'min_samples_leaf': min_samples_leaf,\n",
        "               'bootstrap': bootstrap}\n",
        "\n",
        "pprint(random_grid)"
      ],
      "metadata": {
        "colab": {
          "base_uri": "https://localhost:8080/"
        },
        "id": "gxC9mBHBPqXv",
        "outputId": "371752c1-dae2-4031-f02d-631b821933d6"
      },
      "id": "gxC9mBHBPqXv",
      "execution_count": null,
      "outputs": [
        {
          "output_type": "stream",
          "name": "stdout",
          "text": [
            "{'bootstrap': [True, False],\n",
            " 'max_depth': [10, 43, 76, 110, None],\n",
            " 'max_features': ['auto', 'sqrt'],\n",
            " 'min_samples_leaf': [1, 2, 4],\n",
            " 'min_samples_split': [2, 5, 10, 12, 15],\n",
            " 'n_estimators': [20, 52, 85, 117, 150]}\n"
          ]
        }
      ]
    },
    {
      "cell_type": "code",
      "source": [
        "# Use the random grid to search for best hyperparameters\n",
        "rfm = RandomForestClassifier()\n",
        "tuned_rfm = RandomizedSearchCV(estimator = rfm, param_distributions = random_grid, n_iter = 100, cv = 5, verbose=2, random_state=42, n_jobs=-1)\n",
        "# Fit the random search model\n",
        "tuned_rfm.fit(X_train, y_train)"
      ],
      "metadata": {
        "id": "-uHp2lRPPuO6",
        "colab": {
          "base_uri": "https://localhost:8080/"
        },
        "outputId": "b02781d6-2b15-46dd-d974-79c9f2bba913"
      },
      "id": "-uHp2lRPPuO6",
      "execution_count": null,
      "outputs": [
        {
          "output_type": "stream",
          "name": "stdout",
          "text": [
            "Fitting 5 folds for each of 100 candidates, totalling 500 fits\n"
          ]
        },
        {
          "output_type": "stream",
          "name": "stderr",
          "text": [
            "/usr/local/lib/python3.7/dist-packages/sklearn/model_selection/_search.py:926: DataConversionWarning: A column-vector y was passed when a 1d array was expected. Please change the shape of y to (n_samples,), for example using ravel().\n",
            "  self.best_estimator_.fit(X, y, **fit_params)\n"
          ]
        },
        {
          "output_type": "execute_result",
          "data": {
            "text/plain": [
              "RandomizedSearchCV(cv=5, estimator=RandomForestClassifier(), n_iter=100,\n",
              "                   n_jobs=-1,\n",
              "                   param_distributions={'bootstrap': [True, False],\n",
              "                                        'max_depth': [10, 43, 76, 110, None],\n",
              "                                        'max_features': ['auto', 'sqrt'],\n",
              "                                        'min_samples_leaf': [1, 2, 4],\n",
              "                                        'min_samples_split': [2, 5, 10, 12, 15],\n",
              "                                        'n_estimators': [20, 52, 85, 117, 150]},\n",
              "                   random_state=42, verbose=2)"
            ]
          },
          "metadata": {},
          "execution_count": 38
        }
      ]
    },
    {
      "cell_type": "code",
      "source": [
        "print(tuned_rfm.best_params_)\n",
        "print(tuned_rfm.score(X_rest, y_rest))"
      ],
      "metadata": {
        "id": "PxO6qwCgPxey",
        "colab": {
          "base_uri": "https://localhost:8080/"
        },
        "outputId": "463645fd-322e-49b9-de11-8ae2a9424aca"
      },
      "id": "PxO6qwCgPxey",
      "execution_count": null,
      "outputs": [
        {
          "output_type": "stream",
          "name": "stdout",
          "text": [
            "{'n_estimators': 150, 'min_samples_split': 5, 'min_samples_leaf': 2, 'max_features': 'auto', 'max_depth': 110, 'bootstrap': False}\n"
          ]
        },
        {
          "output_type": "stream",
          "name": "stderr",
          "text": [
            "/usr/local/lib/python3.7/dist-packages/sklearn/base.py:444: UserWarning: X has feature names, but RandomForestClassifier was fitted without feature names\n",
            "  f\"X has feature names, but {self.__class__.__name__} was fitted without\"\n"
          ]
        },
        {
          "output_type": "stream",
          "name": "stdout",
          "text": [
            "0.9761995794303192\n"
          ]
        }
      ]
    },
    {
      "cell_type": "code",
      "source": [
        "#Convert trails from RandomizedSearchCV into an array\n",
        "random_param = tuned_rfm.cv_results_['params']\n",
        "test_sets = []\n",
        "for x in random_param:\n",
        "    items = x.items()\n",
        "    tolist = list(items)\n",
        "    temp = []\n",
        "    for y in tolist:\n",
        "        temp.append(y[1])\n",
        "    test_sets.append(temp)"
      ],
      "metadata": {
        "id": "wTwQl522P2qi"
      },
      "id": "wTwQl522P2qi",
      "execution_count": null,
      "outputs": []
    },
    {
      "cell_type": "code",
      "source": [
        "scores = tuned_rfm.cv_results_['mean_test_score']\n",
        "scores = scores.reshape((100,1))\n",
        "test_sets = np.append(test_sets, scores, axis = 1)"
      ],
      "metadata": {
        "id": "0BbD0ci_P3ac"
      },
      "id": "0BbD0ci_P3ac",
      "execution_count": null,
      "outputs": []
    },
    {
      "cell_type": "code",
      "source": [
        "plt.scatter(test_sets[:, 0], scores)\n",
        "plt.show()"
      ],
      "metadata": {
        "id": "1S783nd4QJr7"
      },
      "id": "1S783nd4QJr7",
      "execution_count": null,
      "outputs": []
    },
    {
      "cell_type": "code",
      "source": [
        "f1score = f1_score(y_rest, y_pred, average=None)\n",
        "rfm_probs = tuned_rfm.predict_proba(X_rest)[:, 1]\n",
        "roc_value = roc_auc_score(y_rest, rfm_probs)\n",
        "\n",
        "print(f1score)\n",
        "print(roc_value)"
      ],
      "metadata": {
        "id": "-TTYmY-9QOfN"
      },
      "id": "-TTYmY-9QOfN",
      "execution_count": null,
      "outputs": []
    },
    {
      "cell_type": "code",
      "source": [
        "ax = plt.gca()\n",
        "rfc_disp = RocCurveDisplay.from_estimator(base_model, X_rest, y_rest, ax=ax, alpha=0.8)\n",
        "plt.show()"
      ],
      "metadata": {
        "id": "hKgDL3XrQVnw"
      },
      "id": "hKgDL3XrQVnw",
      "execution_count": null,
      "outputs": []
    },
    {
      "cell_type": "code",
      "source": [
        "ax = plt.gca()\n",
        "rfc_disp = RocCurveDisplay.from_estimator(tuned_rfm, X_rest, y_rest, ax=ax, alpha=0.8)\n",
        "plt.show()"
      ],
      "metadata": {
        "id": "UVzYnlstQX3N"
      },
      "id": "UVzYnlstQX3N",
      "execution_count": null,
      "outputs": []
    },
    {
      "cell_type": "markdown",
      "source": [
        "# XGBoost"
      ],
      "metadata": {
        "id": "p_TY6cQzWR6i"
      },
      "id": "p_TY6cQzWR6i"
    },
    {
      "cell_type": "code",
      "source": [
        "evaluation = [(X_train, y_train), (X_val, y_val)]"
      ],
      "metadata": {
        "id": "Yzh5tc9FWUE7"
      },
      "id": "Yzh5tc9FWUE7",
      "execution_count": null,
      "outputs": []
    },
    {
      "cell_type": "markdown",
      "source": [
        "Initialize XGBoost Classifier"
      ],
      "metadata": {
        "id": "czWFe6w05za0"
      },
      "id": "czWFe6w05za0"
    },
    {
      "cell_type": "code",
      "source": [
        "xgb_classifier = XGBClassifier(eval_metric='logloss', objective=\"binary:logistic\", early_stopping_rounds = 5, n_estimators=10)\n",
        "xgb_classifier.fit(X_train, y_train, verbose=True, eval_set=evaluation)"
      ],
      "metadata": {
        "colab": {
          "base_uri": "https://localhost:8080/"
        },
        "id": "J5tKMf0v5yzg",
        "outputId": "dec32ff9-fbc0-4a96-ed0b-ac223989eb44"
      },
      "id": "J5tKMf0v5yzg",
      "execution_count": null,
      "outputs": [
        {
          "output_type": "stream",
          "name": "stdout",
          "text": [
            "[0]\tvalidation_0-logloss:0.604072\tvalidation_1-logloss:0.604526\n",
            "[1]\tvalidation_0-logloss:0.531184\tvalidation_1-logloss:0.531889\n",
            "[2]\tvalidation_0-logloss:0.471041\tvalidation_1-logloss:0.471443\n",
            "[3]\tvalidation_0-logloss:0.419752\tvalidation_1-logloss:0.420273\n",
            "[4]\tvalidation_0-logloss:0.375964\tvalidation_1-logloss:0.376607\n",
            "[5]\tvalidation_0-logloss:0.338133\tvalidation_1-logloss:0.339039\n",
            "[6]\tvalidation_0-logloss:0.306031\tvalidation_1-logloss:0.30638\n",
            "[7]\tvalidation_0-logloss:0.277419\tvalidation_1-logloss:0.277914\n",
            "[8]\tvalidation_0-logloss:0.252097\tvalidation_1-logloss:0.253022\n",
            "[9]\tvalidation_0-logloss:0.23019\tvalidation_1-logloss:0.23106\n",
            "[10]\tvalidation_0-logloss:0.210919\tvalidation_1-logloss:0.21152\n",
            "[11]\tvalidation_0-logloss:0.193545\tvalidation_1-logloss:0.194334\n",
            "[12]\tvalidation_0-logloss:0.178353\tvalidation_1-logloss:0.179041\n",
            "[13]\tvalidation_0-logloss:0.164879\tvalidation_1-logloss:0.165449\n",
            "[14]\tvalidation_0-logloss:0.152584\tvalidation_1-logloss:0.153356\n",
            "[15]\tvalidation_0-logloss:0.141928\tvalidation_1-logloss:0.142527\n",
            "[16]\tvalidation_0-logloss:0.132161\tvalidation_1-logloss:0.132813\n",
            "[17]\tvalidation_0-logloss:0.123501\tvalidation_1-logloss:0.124007\n",
            "[18]\tvalidation_0-logloss:0.115562\tvalidation_1-logloss:0.116173\n",
            "[19]\tvalidation_0-logloss:0.108567\tvalidation_1-logloss:0.109184\n",
            "[20]\tvalidation_0-logloss:0.102207\tvalidation_1-logloss:0.102888\n",
            "[21]\tvalidation_0-logloss:0.096593\tvalidation_1-logloss:0.097141\n",
            "[22]\tvalidation_0-logloss:0.091465\tvalidation_1-logloss:0.092035\n",
            "[23]\tvalidation_0-logloss:0.086833\tvalidation_1-logloss:0.087339\n",
            "[24]\tvalidation_0-logloss:0.082634\tvalidation_1-logloss:0.083203\n",
            "[25]\tvalidation_0-logloss:0.078875\tvalidation_1-logloss:0.079435\n",
            "[26]\tvalidation_0-logloss:0.075466\tvalidation_1-logloss:0.076045\n",
            "[27]\tvalidation_0-logloss:0.072329\tvalidation_1-logloss:0.072964\n",
            "[28]\tvalidation_0-logloss:0.069507\tvalidation_1-logloss:0.070202\n",
            "[29]\tvalidation_0-logloss:0.06708\tvalidation_1-logloss:0.067694\n",
            "[30]\tvalidation_0-logloss:0.06472\tvalidation_1-logloss:0.065362\n",
            "[31]\tvalidation_0-logloss:0.062726\tvalidation_1-logloss:0.063291\n",
            "[32]\tvalidation_0-logloss:0.06082\tvalidation_1-logloss:0.061427\n",
            "[33]\tvalidation_0-logloss:0.059091\tvalidation_1-logloss:0.059703\n",
            "[34]\tvalidation_0-logloss:0.057518\tvalidation_1-logloss:0.058155\n",
            "[35]\tvalidation_0-logloss:0.056118\tvalidation_1-logloss:0.056767\n",
            "[36]\tvalidation_0-logloss:0.054859\tvalidation_1-logloss:0.05545\n",
            "[37]\tvalidation_0-logloss:0.053716\tvalidation_1-logloss:0.054313\n",
            "[38]\tvalidation_0-logloss:0.0526\tvalidation_1-logloss:0.053269\n",
            "[39]\tvalidation_0-logloss:0.051619\tvalidation_1-logloss:0.052323\n",
            "[40]\tvalidation_0-logloss:0.050799\tvalidation_1-logloss:0.051483\n",
            "[41]\tvalidation_0-logloss:0.050018\tvalidation_1-logloss:0.05065\n",
            "[42]\tvalidation_0-logloss:0.049272\tvalidation_1-logloss:0.049924\n",
            "[43]\tvalidation_0-logloss:0.048567\tvalidation_1-logloss:0.049295\n",
            "[44]\tvalidation_0-logloss:0.047983\tvalidation_1-logloss:0.048685\n",
            "[45]\tvalidation_0-logloss:0.04744\tvalidation_1-logloss:0.048126\n",
            "[46]\tvalidation_0-logloss:0.046912\tvalidation_1-logloss:0.047631\n",
            "[47]\tvalidation_0-logloss:0.046437\tvalidation_1-logloss:0.047137\n",
            "[48]\tvalidation_0-logloss:0.046056\tvalidation_1-logloss:0.046714\n",
            "[49]\tvalidation_0-logloss:0.045601\tvalidation_1-logloss:0.046347\n"
          ]
        },
        {
          "output_type": "execute_result",
          "data": {
            "text/plain": [
              "XGBClassifier(eval_metric='logloss', n_estimators=50)"
            ]
          },
          "metadata": {},
          "execution_count": 86
        }
      ]
    },
    {
      "cell_type": "code",
      "source": [
        "xgb.plot_tree(xgb_classifier)\n",
        "fig = plt.gcf()\n",
        "fig.set_size_inches(10, 9)"
      ],
      "metadata": {
        "colab": {
          "base_uri": "https://localhost:8080/",
          "height": 387
        },
        "id": "M90g3tz0596Q",
        "outputId": "9624991e-9f2b-4013-e4f5-5a5f895d77dd"
      },
      "id": "M90g3tz0596Q",
      "execution_count": null,
      "outputs": [
        {
          "output_type": "display_data",
          "data": {
            "text/plain": [
              "<Figure size 720x648 with 1 Axes>"
            ],
            "image/png": "[encoded data removed]"
          },
          "metadata": {
            "needs_background": "light"
          }
        }
      ]
    },
    {
      "cell_type": "code",
      "source": [
        "y_pred_train = xgb_classifier.predict(X_train)\n",
        "y_pred_test = xgb_classifier.predict(X_test)\n",
        "y_pred_val = xgb_classifier.predict(X_val)"
      ],
      "metadata": {
        "id": "WjhE10IN6DZH"
      },
      "id": "WjhE10IN6DZH",
      "execution_count": null,
      "outputs": []
    },
    {
      "cell_type": "markdown",
      "source": [
        "Hyperparameter Tuning"
      ],
      "metadata": {
        "id": "WLPz1cgX7zU-"
      },
      "id": "WLPz1cgX7zU-"
    },
    {
      "cell_type": "code",
      "source": [
        "params = {\n",
        "    \"gamma\": uniform(0, 0.5),\n",
        "    \"learning_rate\": uniform(0.03, 0.3), # default 0.1 \n",
        "    \"max_depth\": randint(2, 6), # default 3\n",
        "    \"n_estimators\": randint(50, 100), # default 100\n",
        "    \"subsample\": uniform(0.4, 0.8)\n",
        "}\n",
        "\n",
        "search_params = RandomizedSearchCV(xgb_classifier, param_distributions=params,n_iter=50, \n",
        "                            cv=3, verbose=1, n_jobs=1, return_train_score=True)\n",
        "tune = True\n",
        "if tune:\n",
        "  search_params.fit(X_train, y_train, eval_set=evaluation, verbose = 0)\n",
        "\n",
        "report_best_scores(search_params.cv_results_, 1)"
      ],
      "metadata": {
        "colab": {
          "base_uri": "https://localhost:8080/"
        },
        "id": "UoHwQtaN7yvp",
        "outputId": "c13e1813-8e3a-45cb-a8c6-ba0f04995a07"
      },
      "id": "UoHwQtaN7yvp",
      "execution_count": null,
      "outputs": [
        {
          "output_type": "stream",
          "name": "stdout",
          "text": [
            "Fitting 3 folds for each of 50 candidates, totalling 150 fits\n"
          ]
        },
        {
          "output_type": "stream",
          "name": "stderr",
          "text": [
            "/usr/local/lib/python3.7/dist-packages/sklearn/model_selection/_validation.py:372: FitFailedWarning: \n",
            "39 fits failed out of a total of 150.\n",
            "The score on these train-test partitions for these parameters will be set to nan.\n",
            "If these failures are not expected, you can try to debug them by setting error_score='raise'.\n",
            "\n",
            "Below are more details about the failures:\n",
            "--------------------------------------------------------------------------------\n",
            "3 fits failed with the following error:\n",
            "Traceback (most recent call last):\n",
            "  File \"/usr/local/lib/python3.7/dist-packages/sklearn/model_selection/_validation.py\", line 680, in _fit_and_score\n",
            "    estimator.fit(X_train, y_train, **fit_params)\n",
            "  File \"/usr/local/lib/python3.7/dist-packages/xgboost/sklearn.py\", line 732, in fit\n",
            "    callbacks=callbacks)\n",
            "  File \"/usr/local/lib/python3.7/dist-packages/xgboost/training.py\", line 216, in train\n",
            "    xgb_model=xgb_model, callbacks=callbacks)\n",
            "  File \"/usr/local/lib/python3.7/dist-packages/xgboost/training.py\", line 74, in _train_internal\n",
            "    bst.update(dtrain, i, obj)\n",
            "  File \"/usr/local/lib/python3.7/dist-packages/xgboost/core.py\", line 1109, in update\n",
            "    dtrain.handle))\n",
            "  File \"/usr/local/lib/python3.7/dist-packages/xgboost/core.py\", line 176, in _check_call\n",
            "    raise XGBoostError(py_str(_LIB.XGBGetLastError()))\n",
            "xgboost.core.XGBoostError: value 1.13607 for Parameter subsample exceed bound [0,1]\n",
            "\n",
            "--------------------------------------------------------------------------------\n",
            "3 fits failed with the following error:\n",
            "Traceback (most recent call last):\n",
            "  File \"/usr/local/lib/python3.7/dist-packages/sklearn/model_selection/_validation.py\", line 680, in _fit_and_score\n",
            "    estimator.fit(X_train, y_train, **fit_params)\n",
            "  File \"/usr/local/lib/python3.7/dist-packages/xgboost/sklearn.py\", line 732, in fit\n",
            "    callbacks=callbacks)\n",
            "  File \"/usr/local/lib/python3.7/dist-packages/xgboost/training.py\", line 216, in train\n",
            "    xgb_model=xgb_model, callbacks=callbacks)\n",
            "  File \"/usr/local/lib/python3.7/dist-packages/xgboost/training.py\", line 74, in _train_internal\n",
            "    bst.update(dtrain, i, obj)\n",
            "  File \"/usr/local/lib/python3.7/dist-packages/xgboost/core.py\", line 1109, in update\n",
            "    dtrain.handle))\n",
            "  File \"/usr/local/lib/python3.7/dist-packages/xgboost/core.py\", line 176, in _check_call\n",
            "    raise XGBoostError(py_str(_LIB.XGBGetLastError()))\n",
            "xgboost.core.XGBoostError: value 1.15419 for Parameter subsample exceed bound [0,1]\n",
            "\n",
            "--------------------------------------------------------------------------------\n",
            "3 fits failed with the following error:\n",
            "Traceback (most recent call last):\n",
            "  File \"/usr/local/lib/python3.7/dist-packages/sklearn/model_selection/_validation.py\", line 680, in _fit_and_score\n",
            "    estimator.fit(X_train, y_train, **fit_params)\n",
            "  File \"/usr/local/lib/python3.7/dist-packages/xgboost/sklearn.py\", line 732, in fit\n",
            "    callbacks=callbacks)\n",
            "  File \"/usr/local/lib/python3.7/dist-packages/xgboost/training.py\", line 216, in train\n",
            "    xgb_model=xgb_model, callbacks=callbacks)\n",
            "  File \"/usr/local/lib/python3.7/dist-packages/xgboost/training.py\", line 74, in _train_internal\n",
            "    bst.update(dtrain, i, obj)\n",
            "  File \"/usr/local/lib/python3.7/dist-packages/xgboost/core.py\", line 1109, in update\n",
            "    dtrain.handle))\n",
            "  File \"/usr/local/lib/python3.7/dist-packages/xgboost/core.py\", line 176, in _check_call\n",
            "    raise XGBoostError(py_str(_LIB.XGBGetLastError()))\n",
            "xgboost.core.XGBoostError: value 1.07021 for Parameter subsample exceed bound [0,1]\n",
            "\n",
            "--------------------------------------------------------------------------------\n",
            "3 fits failed with the following error:\n",
            "Traceback (most recent call last):\n",
            "  File \"/usr/local/lib/python3.7/dist-packages/sklearn/model_selection/_validation.py\", line 680, in _fit_and_score\n",
            "    estimator.fit(X_train, y_train, **fit_params)\n",
            "  File \"/usr/local/lib/python3.7/dist-packages/xgboost/sklearn.py\", line 732, in fit\n",
            "    callbacks=callbacks)\n",
            "  File \"/usr/local/lib/python3.7/dist-packages/xgboost/training.py\", line 216, in train\n",
            "    xgb_model=xgb_model, callbacks=callbacks)\n",
            "  File \"/usr/local/lib/python3.7/dist-packages/xgboost/training.py\", line 74, in _train_internal\n",
            "    bst.update(dtrain, i, obj)\n",
            "  File \"/usr/local/lib/python3.7/dist-packages/xgboost/core.py\", line 1109, in update\n",
            "    dtrain.handle))\n",
            "  File \"/usr/local/lib/python3.7/dist-packages/xgboost/core.py\", line 176, in _check_call\n",
            "    raise XGBoostError(py_str(_LIB.XGBGetLastError()))\n",
            "xgboost.core.XGBoostError: value 1.08809 for Parameter subsample exceed bound [0,1]\n",
            "\n",
            "--------------------------------------------------------------------------------\n",
            "3 fits failed with the following error:\n",
            "Traceback (most recent call last):\n",
            "  File \"/usr/local/lib/python3.7/dist-packages/sklearn/model_selection/_validation.py\", line 680, in _fit_and_score\n",
            "    estimator.fit(X_train, y_train, **fit_params)\n",
            "  File \"/usr/local/lib/python3.7/dist-packages/xgboost/sklearn.py\", line 732, in fit\n",
            "    callbacks=callbacks)\n",
            "  File \"/usr/local/lib/python3.7/dist-packages/xgboost/training.py\", line 216, in train\n",
            "    xgb_model=xgb_model, callbacks=callbacks)\n",
            "  File \"/usr/local/lib/python3.7/dist-packages/xgboost/training.py\", line 74, in _train_internal\n",
            "    bst.update(dtrain, i, obj)\n",
            "  File \"/usr/local/lib/python3.7/dist-packages/xgboost/core.py\", line 1109, in update\n",
            "    dtrain.handle))\n",
            "  File \"/usr/local/lib/python3.7/dist-packages/xgboost/core.py\", line 176, in _check_call\n",
            "    raise XGBoostError(py_str(_LIB.XGBGetLastError()))\n",
            "xgboost.core.XGBoostError: value 1.13361 for Parameter subsample exceed bound [0,1]\n",
            "\n",
            "--------------------------------------------------------------------------------\n",
            "3 fits failed with the following error:\n",
            "Traceback (most recent call last):\n",
            "  File \"/usr/local/lib/python3.7/dist-packages/sklearn/model_selection/_validation.py\", line 680, in _fit_and_score\n",
            "    estimator.fit(X_train, y_train, **fit_params)\n",
            "  File \"/usr/local/lib/python3.7/dist-packages/xgboost/sklearn.py\", line 732, in fit\n",
            "    callbacks=callbacks)\n",
            "  File \"/usr/local/lib/python3.7/dist-packages/xgboost/training.py\", line 216, in train\n",
            "    xgb_model=xgb_model, callbacks=callbacks)\n",
            "  File \"/usr/local/lib/python3.7/dist-packages/xgboost/training.py\", line 74, in _train_internal\n",
            "    bst.update(dtrain, i, obj)\n",
            "  File \"/usr/local/lib/python3.7/dist-packages/xgboost/core.py\", line 1109, in update\n",
            "    dtrain.handle))\n",
            "  File \"/usr/local/lib/python3.7/dist-packages/xgboost/core.py\", line 176, in _check_call\n",
            "    raise XGBoostError(py_str(_LIB.XGBGetLastError()))\n",
            "xgboost.core.XGBoostError: value 1.04399 for Parameter subsample exceed bound [0,1]\n",
            "\n",
            "--------------------------------------------------------------------------------\n",
            "3 fits failed with the following error:\n",
            "Traceback (most recent call last):\n",
            "  File \"/usr/local/lib/python3.7/dist-packages/sklearn/model_selection/_validation.py\", line 680, in _fit_and_score\n",
            "    estimator.fit(X_train, y_train, **fit_params)\n",
            "  File \"/usr/local/lib/python3.7/dist-packages/xgboost/sklearn.py\", line 732, in fit\n",
            "    callbacks=callbacks)\n",
            "  File \"/usr/local/lib/python3.7/dist-packages/xgboost/training.py\", line 216, in train\n",
            "    xgb_model=xgb_model, callbacks=callbacks)\n",
            "  File \"/usr/local/lib/python3.7/dist-packages/xgboost/training.py\", line 74, in _train_internal\n",
            "    bst.update(dtrain, i, obj)\n",
            "  File \"/usr/local/lib/python3.7/dist-packages/xgboost/core.py\", line 1109, in update\n",
            "    dtrain.handle))\n",
            "  File \"/usr/local/lib/python3.7/dist-packages/xgboost/core.py\", line 176, in _check_call\n",
            "    raise XGBoostError(py_str(_LIB.XGBGetLastError()))\n",
            "xgboost.core.XGBoostError: value 1.10176 for Parameter subsample exceed bound [0,1]\n",
            "\n",
            "--------------------------------------------------------------------------------\n",
            "3 fits failed with the following error:\n",
            "Traceback (most recent call last):\n",
            "  File \"/usr/local/lib/python3.7/dist-packages/sklearn/model_selection/_validation.py\", line 680, in _fit_and_score\n",
            "    estimator.fit(X_train, y_train, **fit_params)\n",
            "  File \"/usr/local/lib/python3.7/dist-packages/xgboost/sklearn.py\", line 732, in fit\n",
            "    callbacks=callbacks)\n",
            "  File \"/usr/local/lib/python3.7/dist-packages/xgboost/training.py\", line 216, in train\n",
            "    xgb_model=xgb_model, callbacks=callbacks)\n",
            "  File \"/usr/local/lib/python3.7/dist-packages/xgboost/training.py\", line 74, in _train_internal\n",
            "    bst.update(dtrain, i, obj)\n",
            "  File \"/usr/local/lib/python3.7/dist-packages/xgboost/core.py\", line 1109, in update\n",
            "    dtrain.handle))\n",
            "  File \"/usr/local/lib/python3.7/dist-packages/xgboost/core.py\", line 176, in _check_call\n",
            "    raise XGBoostError(py_str(_LIB.XGBGetLastError()))\n",
            "xgboost.core.XGBoostError: value 1.00648 for Parameter subsample exceed bound [0,1]\n",
            "\n",
            "--------------------------------------------------------------------------------\n",
            "3 fits failed with the following error:\n",
            "Traceback (most recent call last):\n",
            "  File \"/usr/local/lib/python3.7/dist-packages/sklearn/model_selection/_validation.py\", line 680, in _fit_and_score\n",
            "    estimator.fit(X_train, y_train, **fit_params)\n",
            "  File \"/usr/local/lib/python3.7/dist-packages/xgboost/sklearn.py\", line 732, in fit\n",
            "    callbacks=callbacks)\n",
            "  File \"/usr/local/lib/python3.7/dist-packages/xgboost/training.py\", line 216, in train\n",
            "    xgb_model=xgb_model, callbacks=callbacks)\n",
            "  File \"/usr/local/lib/python3.7/dist-packages/xgboost/training.py\", line 74, in _train_internal\n",
            "    bst.update(dtrain, i, obj)\n",
            "  File \"/usr/local/lib/python3.7/dist-packages/xgboost/core.py\", line 1109, in update\n",
            "    dtrain.handle))\n",
            "  File \"/usr/local/lib/python3.7/dist-packages/xgboost/core.py\", line 176, in _check_call\n",
            "    raise XGBoostError(py_str(_LIB.XGBGetLastError()))\n",
            "xgboost.core.XGBoostError: value 1.04341 for Parameter subsample exceed bound [0,1]\n",
            "\n",
            "--------------------------------------------------------------------------------\n",
            "3 fits failed with the following error:\n",
            "Traceback (most recent call last):\n",
            "  File \"/usr/local/lib/python3.7/dist-packages/sklearn/model_selection/_validation.py\", line 680, in _fit_and_score\n",
            "    estimator.fit(X_train, y_train, **fit_params)\n",
            "  File \"/usr/local/lib/python3.7/dist-packages/xgboost/sklearn.py\", line 732, in fit\n",
            "    callbacks=callbacks)\n",
            "  File \"/usr/local/lib/python3.7/dist-packages/xgboost/training.py\", line 216, in train\n",
            "    xgb_model=xgb_model, callbacks=callbacks)\n",
            "  File \"/usr/local/lib/python3.7/dist-packages/xgboost/training.py\", line 74, in _train_internal\n",
            "    bst.update(dtrain, i, obj)\n",
            "  File \"/usr/local/lib/python3.7/dist-packages/xgboost/core.py\", line 1109, in update\n",
            "    dtrain.handle))\n",
            "  File \"/usr/local/lib/python3.7/dist-packages/xgboost/core.py\", line 176, in _check_call\n",
            "    raise XGBoostError(py_str(_LIB.XGBGetLastError()))\n",
            "xgboost.core.XGBoostError: value 1.18826 for Parameter subsample exceed bound [0,1]\n",
            "\n",
            "--------------------------------------------------------------------------------\n",
            "3 fits failed with the following error:\n",
            "Traceback (most recent call last):\n",
            "  File \"/usr/local/lib/python3.7/dist-packages/sklearn/model_selection/_validation.py\", line 680, in _fit_and_score\n",
            "    estimator.fit(X_train, y_train, **fit_params)\n",
            "  File \"/usr/local/lib/python3.7/dist-packages/xgboost/sklearn.py\", line 732, in fit\n",
            "    callbacks=callbacks)\n",
            "  File \"/usr/local/lib/python3.7/dist-packages/xgboost/training.py\", line 216, in train\n",
            "    xgb_model=xgb_model, callbacks=callbacks)\n",
            "  File \"/usr/local/lib/python3.7/dist-packages/xgboost/training.py\", line 74, in _train_internal\n",
            "    bst.update(dtrain, i, obj)\n",
            "  File \"/usr/local/lib/python3.7/dist-packages/xgboost/core.py\", line 1109, in update\n",
            "    dtrain.handle))\n",
            "  File \"/usr/local/lib/python3.7/dist-packages/xgboost/core.py\", line 176, in _check_call\n",
            "    raise XGBoostError(py_str(_LIB.XGBGetLastError()))\n",
            "xgboost.core.XGBoostError: value 1.14773 for Parameter subsample exceed bound [0,1]\n",
            "\n",
            "--------------------------------------------------------------------------------\n",
            "3 fits failed with the following error:\n",
            "Traceback (most recent call last):\n",
            "  File \"/usr/local/lib/python3.7/dist-packages/sklearn/model_selection/_validation.py\", line 680, in _fit_and_score\n",
            "    estimator.fit(X_train, y_train, **fit_params)\n",
            "  File \"/usr/local/lib/python3.7/dist-packages/xgboost/sklearn.py\", line 732, in fit\n",
            "    callbacks=callbacks)\n",
            "  File \"/usr/local/lib/python3.7/dist-packages/xgboost/training.py\", line 216, in train\n",
            "    xgb_model=xgb_model, callbacks=callbacks)\n",
            "  File \"/usr/local/lib/python3.7/dist-packages/xgboost/training.py\", line 74, in _train_internal\n",
            "    bst.update(dtrain, i, obj)\n",
            "  File \"/usr/local/lib/python3.7/dist-packages/xgboost/core.py\", line 1109, in update\n",
            "    dtrain.handle))\n",
            "  File \"/usr/local/lib/python3.7/dist-packages/xgboost/core.py\", line 176, in _check_call\n",
            "    raise XGBoostError(py_str(_LIB.XGBGetLastError()))\n",
            "xgboost.core.XGBoostError: value 1.08863 for Parameter subsample exceed bound [0,1]\n",
            "\n",
            "--------------------------------------------------------------------------------\n",
            "3 fits failed with the following error:\n",
            "Traceback (most recent call last):\n",
            "  File \"/usr/local/lib/python3.7/dist-packages/sklearn/model_selection/_validation.py\", line 680, in _fit_and_score\n",
            "    estimator.fit(X_train, y_train, **fit_params)\n",
            "  File \"/usr/local/lib/python3.7/dist-packages/xgboost/sklearn.py\", line 732, in fit\n",
            "    callbacks=callbacks)\n",
            "  File \"/usr/local/lib/python3.7/dist-packages/xgboost/training.py\", line 216, in train\n",
            "    xgb_model=xgb_model, callbacks=callbacks)\n",
            "  File \"/usr/local/lib/python3.7/dist-packages/xgboost/training.py\", line 74, in _train_internal\n",
            "    bst.update(dtrain, i, obj)\n",
            "  File \"/usr/local/lib/python3.7/dist-packages/xgboost/core.py\", line 1109, in update\n",
            "    dtrain.handle))\n",
            "  File \"/usr/local/lib/python3.7/dist-packages/xgboost/core.py\", line 176, in _check_call\n",
            "    raise XGBoostError(py_str(_LIB.XGBGetLastError()))\n",
            "xgboost.core.XGBoostError: value 1.01288 for Parameter subsample exceed bound [0,1]\n",
            "\n",
            "  warnings.warn(some_fits_failed_message, FitFailedWarning)\n",
            "/usr/local/lib/python3.7/dist-packages/sklearn/model_selection/_search.py:972: UserWarning: One or more of the test scores are non-finite: [0.98527936 0.97877934        nan 0.98143192 0.98490897 0.98202936\n",
            " 0.9799742  0.98318837 0.98138413        nan 0.98616357 0.9837858\n",
            " 0.98643838 0.98475363 0.98471778 0.9867371  0.98606798 0.9828777\n",
            "        nan        nan 0.98279406        nan 0.98499261 0.98212494\n",
            " 0.98175454 0.97923338 0.97993835        nan 0.98607993        nan\n",
            " 0.98544665 0.97895857 0.97974717 0.98455051 0.983272   0.98621136\n",
            "        nan 0.9828777  0.97876739        nan 0.98458635 0.98234001\n",
            "        nan        nan 0.98090619 0.98494481        nan        nan\n",
            " 0.98637864 0.97905415]\n",
            "  category=UserWarning,\n",
            "/usr/local/lib/python3.7/dist-packages/sklearn/model_selection/_search.py:972: UserWarning: One or more of the train scores are non-finite: [0.99290852 0.97945443        nan 0.98268054 0.99109831 0.98423983\n",
            " 0.98059552 0.98639655 0.98269847        nan 0.99283086 0.98740023\n",
            " 0.99373895 0.98961669 0.98901926 0.99427066 0.9920781  0.98587679\n",
            "        nan        nan 0.98449673        nan 0.98999904 0.98395904\n",
            " 0.98292549 0.97953209 0.98057162        nan 0.99461717        nan\n",
            " 0.99275917 0.9796695  0.98033265 0.98861898 0.98564976 0.99329088\n",
            "        nan 0.98560197 0.97907805        nan 0.9892881  0.98400086\n",
            "        nan        nan 0.98220858 0.99053076        nan        nan\n",
            " 0.99444391 0.97917961]\n",
            "  category=UserWarning,\n"
          ]
        },
        {
          "output_type": "stream",
          "name": "stdout",
          "text": [
            "Model with rank: 1\n",
            "Mean validation score: 0.987 (std: 0.001)\n",
            "Parameters: {'gamma': 0.31192212490557614, 'learning_rate': 0.18523268743826385, 'max_depth': 5, 'n_estimators': 90, 'subsample': 0.6089075031747635}\n",
            "\n"
          ]
        }
      ]
    },
    {
      "cell_type": "markdown",
      "source": [
        "Validation Loss Plotting"
      ],
      "metadata": {
        "id": "4qRkU7m26MeH"
      },
      "id": "4qRkU7m26MeH"
    },
    {
      "cell_type": "code",
      "source": [
        "results = xgb_classifier.evals_result()\n",
        "plt.plot(results['validation_0']['logloss'], label='Train')\n",
        "plt.plot(results['validation_1']['logloss'], label='Validation')\n",
        "plt.legend()\n",
        "fig = plt.gcf()\n",
        "fig.set_size_inches(10, 9)\n",
        "plt.show()"
      ],
      "metadata": {
        "colab": {
          "base_uri": "https://localhost:8080/",
          "height": 537
        },
        "id": "37LsHi2O6MwA",
        "outputId": "f1d64a3d-3fae-4904-c3b4-c7edbff8673e"
      },
      "id": "37LsHi2O6MwA",
      "execution_count": null,
      "outputs": [
        {
          "output_type": "display_data",
          "data": {
            "text/plain": [
              "<Figure size 720x648 with 1 Axes>"
            ],
            "image/png": "[encoded data removed]"
          },
          "metadata": {
            "needs_background": "light"
          }
        }
      ]
    },
    {
      "cell_type": "markdown",
      "source": [
        "Feature Importance"
      ],
      "metadata": {
        "id": "-CyFlWrF-466"
      },
      "id": "-CyFlWrF-466"
    },
    {
      "cell_type": "code",
      "source": [
        "plot_importance(xgb_classifier, max_num_features=len(x_set.columns) - 53)\n",
        "plt.rcParams[\"figure.figsize\"] = (8, 7)\n",
        "plt.show()"
      ],
      "metadata": {
        "colab": {
          "base_uri": "https://localhost:8080/",
          "height": 299
        },
        "id": "OuhXvpTE-4kj",
        "outputId": "bf6bd9a9-934c-40e4-bc9f-66f93d406d11"
      },
      "id": "OuhXvpTE-4kj",
      "execution_count": null,
      "outputs": [
        {
          "output_type": "display_data",
          "data": {
            "text/plain": [
              "<Figure size 432x288 with 1 Axes>"
            ],
            "image/png": "[encoded data removed]"
          },
          "metadata": {
            "needs_background": "light"
          }
        }
      ]
    },
    {
      "cell_type": "markdown",
      "source": [
        "Prediction"
      ],
      "metadata": {
        "id": "uL6Dz2ti7fiU"
      },
      "id": "uL6Dz2ti7fiU"
    },
    {
      "cell_type": "code",
      "source": [
        "f1score = f1_score(y_test, y_pred_test, average=None)\n",
        "rf_probs = xgb_classifier.predict_proba(X_test)[:, 1]\n",
        "roc_value = roc_auc_score(y_test, rf_probs)\n",
        "\n",
        "print(f1score)\n",
        "print(roc_value)\n",
        "\n",
        "result_df = pd.DataFrame({\n",
        "     'Response': ['Yes', 'No'],\n",
        "     'Train':[sum(y_train == 1), sum(y_train == 0)],\n",
        "     'Validation':[sum(y_test == 1), sum(y_test == 0)],\n",
        "     'Test':[sum(y_val == 1), sum(y_val == 0)]})\n",
        "\n",
        "prediction_df = pd.DataFrame({\n",
        "     'Response': ['Yes', 'No'],\n",
        "     'Train':[sum(y_pred_train == 1), sum(y_pred_train == 0)],\n",
        "     'Validation':[sum(y_pred_test == 1), sum(y_pred_test == 0)],\n",
        "     'Test':[sum(y_pred_val == 1), sum(y_pred_val == 0)]})\n",
        "\n",
        "print('Dataset')\n",
        "blankIndex=[''] * len(result_df)\n",
        "result_df.index=blankIndex\n",
        "display(result_df)\n",
        "\n",
        "print('Prediction')\n",
        "blankIndex=[''] * len(prediction_df)\n",
        "prediction_df.index=blankIndex\n",
        "display(prediction_df)"
      ],
      "metadata": {
        "colab": {
          "base_uri": "https://localhost:8080/",
          "height": 277
        },
        "id": "Xbz0qbPS7fvC",
        "outputId": "88ea1f5f-bb8c-4553-edb5-3a30a34fd41c"
      },
      "id": "Xbz0qbPS7fvC",
      "execution_count": null,
      "outputs": [
        {
          "output_type": "stream",
          "name": "stdout",
          "text": [
            "[0.97750898 0.97698704]\n",
            "0.9986349925734604\n",
            "Dataset\n"
          ]
        },
        {
          "output_type": "display_data",
          "data": {
            "text/plain": [
              " Response  Train  Validation  Test\n",
              "      Yes  41949        5179  5180\n",
              "       No  41743        5283  5282"
            ],
            "text/html": [
              "\n",
              "  <div id=\"df-8941e523-2995-4265-ad96-2e2ff74cd724\">\n",
              "    <div class=\"colab-df-container\">\n",
              "      <div>\n",
              "<style scoped>\n",
              "    .dataframe tbody tr th:only-of-type {\n",
              "        vertical-align: middle;\n",
              "    }\n",
              "\n",
              "    .dataframe tbody tr th {\n",
              "        vertical-align: top;\n",
              "    }\n",
              "\n",
              "    .dataframe thead th {\n",
              "        text-align: right;\n",
              "    }\n",
              "</style>\n",
              "<table border=\"1\" class=\"dataframe\">\n",
              "  <thead>\n",
              "    <tr style=\"text-align: right;\">\n",
              "      <th></th>\n",
              "      <th>Response</th>\n",
              "      <th>Train</th>\n",
              "      <th>Validation</th>\n",
              "      <th>Test</th>\n",
              "    </tr>\n",
              "  </thead>\n",
              "  <tbody>\n",
              "    <tr>\n",
              "      <th></th>\n",
              "      <td>Yes</td>\n",
              "      <td>41949</td>\n",
              "      <td>5179</td>\n",
              "      <td>5180</td>\n",
              "    </tr>\n",
              "    <tr>\n",
              "      <th></th>\n",
              "      <td>No</td>\n",
              "      <td>41743</td>\n",
              "      <td>5283</td>\n",
              "      <td>5282</td>\n",
              "    </tr>\n",
              "  </tbody>\n",
              "</table>\n",
              "</div>\n",
              "      <button class=\"colab-df-convert\" onclick=\"convertToInteractive('df-8941e523-2995-4265-ad96-2e2ff74cd724')\"\n",
              "              title=\"Convert this dataframe to an interactive table.\"\n",
              "              style=\"display:none;\">\n",
              "        \n",
              "  <svg xmlns=\"http://www.w3.org/2000/svg\" height=\"24px\"viewBox=\"0 0 24 24\"\n",
              "       width=\"24px\">\n",
              "    <path d=\"M0 0h24v24H0V0z\" fill=\"none\"/>\n",
              "    <path d=\"M18.56 5.44l.94 2.06.94-2.06 2.06-.94-2.06-.94-.94-2.06-.94 2.06-2.06.94zm-11 1L8.5 8.5l.94-2.06 2.06-.94-2.06-.94L8.5 2.5l-.94 2.06-2.06.94zm10 10l.94 2.06.94-2.06 2.06-.94-2.06-.94-.94-2.06-.94 2.06-2.06.94z\"/><path d=\"M17.41 7.96l-1.37-1.37c-.4-.4-.92-.59-1.43-.59-.52 0-1.04.2-1.43.59L10.3 9.45l-7.72 7.72c-.78.78-.78 2.05 0 2.83L4 21.41c.39.39.9.59 1.41.59.51 0 1.02-.2 1.41-.59l7.78-7.78 2.81-2.81c.8-.78.8-2.07 0-2.86zM5.41 20L4 18.59l7.72-7.72 1.47 1.35L5.41 20z\"/>\n",
              "  </svg>\n",
              "      </button>\n",
              "      \n",
              "  <style>\n",
              "    .colab-df-container {\n",
              "      display:flex;\n",
              "      flex-wrap:wrap;\n",
              "      gap: 12px;\n",
              "    }\n",
              "\n",
              "    .colab-df-convert {\n",
              "      background-color: #E8F0FE;\n",
              "      border: none;\n",
              "      border-radius: 50%;\n",
              "      cursor: pointer;\n",
              "      display: none;\n",
              "      fill: #1967D2;\n",
              "      height: 32px;\n",
              "      padding: 0 0 0 0;\n",
              "      width: 32px;\n",
              "    }\n",
              "\n",
              "    .colab-df-convert:hover {\n",
              "      background-color: #E2EBFA;\n",
              "      box-shadow: 0px 1px 2px rgba(60, 64, 67, 0.3), 0px 1px 3px 1px rgba(60, 64, 67, 0.15);\n",
              "      fill: #174EA6;\n",
              "    }\n",
              "\n",
              "    [theme=dark] .colab-df-convert {\n",
              "      background-color: #3B4455;\n",
              "      fill: #D2E3FC;\n",
              "    }\n",
              "\n",
              "    [theme=dark] .colab-df-convert:hover {\n",
              "      background-color: #434B5C;\n",
              "      box-shadow: 0px 1px 3px 1px rgba(0, 0, 0, 0.15);\n",
              "      filter: drop-shadow(0px 1px 2px rgba(0, 0, 0, 0.3));\n",
              "      fill: #FFFFFF;\n",
              "    }\n",
              "  </style>\n",
              "\n",
              "      <script>\n",
              "        const buttonEl =\n",
              "          document.querySelector('#df-8941e523-2995-4265-ad96-2e2ff74cd724 button.colab-df-convert');\n",
              "        buttonEl.style.display =\n",
              "          google.colab.kernel.accessAllowed ? 'block' : 'none';\n",
              "\n",
              "        async function convertToInteractive(key) {\n",
              "          const element = document.querySelector('#df-8941e523-2995-4265-ad96-2e2ff74cd724');\n",
              "          const dataTable =\n",
              "            await google.colab.kernel.invokeFunction('convertToInteractive',\n",
              "                                                     [key], {});\n",
              "          if (!dataTable) return;\n",
              "\n",
              "          const docLinkHtml = 'Like what you see? Visit the ' +\n",
              "            '<a target=\"_blank\" href=https://colab.research.google.com/notebooks/data_table.ipynb>data table notebook</a>'\n",
              "            + ' to learn more about interactive tables.';\n",
              "          element.innerHTML = '';\n",
              "          dataTable['output_type'] = 'display_data';\n",
              "          await google.colab.output.renderOutput(dataTable, element);\n",
              "          const docLink = document.createElement('div');\n",
              "          docLink.innerHTML = docLinkHtml;\n",
              "          element.appendChild(docLink);\n",
              "        }\n",
              "      </script>\n",
              "    </div>\n",
              "  </div>\n",
              "  "
            ]
          },
          "metadata": {}
        },
        {
          "output_type": "stream",
          "name": "stdout",
          "text": [
            "Prediction\n"
          ]
        },
        {
          "output_type": "display_data",
          "data": {
            "text/plain": [
              " Response  Train  Validation  Test\n",
              "      Yes  41910        5163  5204\n",
              "       No  41782        5299  5258"
            ],
            "text/html": [
              "\n",
              "  <div id=\"df-ee051c01-6b82-4f11-b22e-ec2a45475b5c\">\n",
              "    <div class=\"colab-df-container\">\n",
              "      <div>\n",
              "<style scoped>\n",
              "    .dataframe tbody tr th:only-of-type {\n",
              "        vertical-align: middle;\n",
              "    }\n",
              "\n",
              "    .dataframe tbody tr th {\n",
              "        vertical-align: top;\n",
              "    }\n",
              "\n",
              "    .dataframe thead th {\n",
              "        text-align: right;\n",
              "    }\n",
              "</style>\n",
              "<table border=\"1\" class=\"dataframe\">\n",
              "  <thead>\n",
              "    <tr style=\"text-align: right;\">\n",
              "      <th></th>\n",
              "      <th>Response</th>\n",
              "      <th>Train</th>\n",
              "      <th>Validation</th>\n",
              "      <th>Test</th>\n",
              "    </tr>\n",
              "  </thead>\n",
              "  <tbody>\n",
              "    <tr>\n",
              "      <th></th>\n",
              "      <td>Yes</td>\n",
              "      <td>41910</td>\n",
              "      <td>5163</td>\n",
              "      <td>5204</td>\n",
              "    </tr>\n",
              "    <tr>\n",
              "      <th></th>\n",
              "      <td>No</td>\n",
              "      <td>41782</td>\n",
              "      <td>5299</td>\n",
              "      <td>5258</td>\n",
              "    </tr>\n",
              "  </tbody>\n",
              "</table>\n",
              "</div>\n",
              "      <button class=\"colab-df-convert\" onclick=\"convertToInteractive('df-ee051c01-6b82-4f11-b22e-ec2a45475b5c')\"\n",
              "              title=\"Convert this dataframe to an interactive table.\"\n",
              "              style=\"display:none;\">\n",
              "        \n",
              "  <svg xmlns=\"http://www.w3.org/2000/svg\" height=\"24px\"viewBox=\"0 0 24 24\"\n",
              "       width=\"24px\">\n",
              "    <path d=\"M0 0h24v24H0V0z\" fill=\"none\"/>\n",
              "    <path d=\"M18.56 5.44l.94 2.06.94-2.06 2.06-.94-2.06-.94-.94-2.06-.94 2.06-2.06.94zm-11 1L8.5 8.5l.94-2.06 2.06-.94-2.06-.94L8.5 2.5l-.94 2.06-2.06.94zm10 10l.94 2.06.94-2.06 2.06-.94-2.06-.94-.94-2.06-.94 2.06-2.06.94z\"/><path d=\"M17.41 7.96l-1.37-1.37c-.4-.4-.92-.59-1.43-.59-.52 0-1.04.2-1.43.59L10.3 9.45l-7.72 7.72c-.78.78-.78 2.05 0 2.83L4 21.41c.39.39.9.59 1.41.59.51 0 1.02-.2 1.41-.59l7.78-7.78 2.81-2.81c.8-.78.8-2.07 0-2.86zM5.41 20L4 18.59l7.72-7.72 1.47 1.35L5.41 20z\"/>\n",
              "  </svg>\n",
              "      </button>\n",
              "      \n",
              "  <style>\n",
              "    .colab-df-container {\n",
              "      display:flex;\n",
              "      flex-wrap:wrap;\n",
              "      gap: 12px;\n",
              "    }\n",
              "\n",
              "    .colab-df-convert {\n",
              "      background-color: #E8F0FE;\n",
              "      border: none;\n",
              "      border-radius: 50%;\n",
              "      cursor: pointer;\n",
              "      display: none;\n",
              "      fill: #1967D2;\n",
              "      height: 32px;\n",
              "      padding: 0 0 0 0;\n",
              "      width: 32px;\n",
              "    }\n",
              "\n",
              "    .colab-df-convert:hover {\n",
              "      background-color: #E2EBFA;\n",
              "      box-shadow: 0px 1px 2px rgba(60, 64, 67, 0.3), 0px 1px 3px 1px rgba(60, 64, 67, 0.15);\n",
              "      fill: #174EA6;\n",
              "    }\n",
              "\n",
              "    [theme=dark] .colab-df-convert {\n",
              "      background-color: #3B4455;\n",
              "      fill: #D2E3FC;\n",
              "    }\n",
              "\n",
              "    [theme=dark] .colab-df-convert:hover {\n",
              "      background-color: #434B5C;\n",
              "      box-shadow: 0px 1px 3px 1px rgba(0, 0, 0, 0.15);\n",
              "      filter: drop-shadow(0px 1px 2px rgba(0, 0, 0, 0.3));\n",
              "      fill: #FFFFFF;\n",
              "    }\n",
              "  </style>\n",
              "\n",
              "      <script>\n",
              "        const buttonEl =\n",
              "          document.querySelector('#df-ee051c01-6b82-4f11-b22e-ec2a45475b5c button.colab-df-convert');\n",
              "        buttonEl.style.display =\n",
              "          google.colab.kernel.accessAllowed ? 'block' : 'none';\n",
              "\n",
              "        async function convertToInteractive(key) {\n",
              "          const element = document.querySelector('#df-ee051c01-6b82-4f11-b22e-ec2a45475b5c');\n",
              "          const dataTable =\n",
              "            await google.colab.kernel.invokeFunction('convertToInteractive',\n",
              "                                                     [key], {});\n",
              "          if (!dataTable) return;\n",
              "\n",
              "          const docLinkHtml = 'Like what you see? Visit the ' +\n",
              "            '<a target=\"_blank\" href=https://colab.research.google.com/notebooks/data_table.ipynb>data table notebook</a>'\n",
              "            + ' to learn more about interactive tables.';\n",
              "          element.innerHTML = '';\n",
              "          dataTable['output_type'] = 'display_data';\n",
              "          await google.colab.output.renderOutput(dataTable, element);\n",
              "          const docLink = document.createElement('div');\n",
              "          docLink.innerHTML = docLinkHtml;\n",
              "          element.appendChild(docLink);\n",
              "        }\n",
              "      </script>\n",
              "    </div>\n",
              "  </div>\n",
              "  "
            ]
          },
          "metadata": {}
        }
      ]
    },
    {
      "cell_type": "markdown",
      "source": [
        "<h3> Accuracy and Classification Error </h3>"
      ],
      "metadata": {
        "id": "HFOGOHCq7mnY"
      },
      "id": "HFOGOHCq7mnY"
    },
    {
      "cell_type": "code",
      "source": [
        "error = accuracy_score(y_train, y_pred_train)\n",
        "print('XGBoost')\n",
        "print('---------------------------------------')\n",
        "print('Train Classification Accuracy')\n",
        "print('---------------------------------------')\n",
        "print('\\tDataset: ', error*100)\n",
        "print('---------------------------------------')\n",
        "print('Train Classification Error')\n",
        "print('---------------------------------------')\n",
        "print('\\tDataset: ', (1-error)*100,'%')\n",
        "print('---------------------------------------')\n",
        "error = accuracy_score(y_test, y_pred_test)\n",
        "print('---------------------------------------')\n",
        "print('Test Classification Accuracy')\n",
        "print('---------------------------------------')\n",
        "print('\\tDataset: ', error*100, '%')\n",
        "print('---------------------------------------')\n",
        "print('Test Classification Error')\n",
        "print('---------------------------------------')\n",
        "print('\\tDataset: ', (1-error)*100,'%')\n",
        "print('---------------------------------------')\n",
        "error = accuracy_score(y_val, y_pred_val)\n",
        "print('---------------------------------------')\n",
        "print('Validation Classification Accuracy')\n",
        "print('---------------------------------------')\n",
        "print('\\tDataset: ', error*100, '%')\n",
        "print('---------------------------------------')\n",
        "print('Test Classification Error')\n",
        "print('---------------------------------------')\n",
        "print('\\tDataset: ', (1-error)*100,'%')\n",
        "print('---------------------------------------')"
      ],
      "metadata": {
        "colab": {
          "base_uri": "https://localhost:8080/"
        },
        "id": "PJF7xbim7m5d",
        "outputId": "3e50da40-cf46-4625-d1a1-220c08c5112e"
      },
      "id": "PJF7xbim7m5d",
      "execution_count": null,
      "outputs": [
        {
          "output_type": "stream",
          "name": "stdout",
          "text": [
            "XGBoost\n",
            "---------------------------------------\n",
            "Train Classification Accuracy\n",
            "---------------------------------------\n",
            "\tDataset:  97.94365052812695\n",
            "---------------------------------------\n",
            "Train Classification Error\n",
            "---------------------------------------\n",
            "\tDataset:  2.0563494718730535 %\n",
            "---------------------------------------\n",
            "---------------------------------------\n",
            "Test Classification Accuracy\n",
            "---------------------------------------\n",
            "\tDataset:  97.72510036321927 %\n",
            "---------------------------------------\n",
            "Test Classification Error\n",
            "---------------------------------------\n",
            "\tDataset:  2.274899636780725 %\n",
            "---------------------------------------\n",
            "---------------------------------------\n",
            "Validation Classification Accuracy\n",
            "---------------------------------------\n",
            "\tDataset:  97.87803479258268 %\n",
            "---------------------------------------\n",
            "Test Classification Error\n",
            "---------------------------------------\n",
            "\tDataset:  2.12196520741732 %\n",
            "---------------------------------------\n"
          ]
        }
      ]
    },
    {
      "cell_type": "code",
      "source": [
        "xgb_classifier_tune = XGBClassifier(eval_metric='logloss', objective=\"binary:logistic\", \n",
        "            n_estimators=10, colsample_bytree = 0.9398183878369726, gamma = 0.21039837825483954,\n",
        "                              learning_rate = 0.2092801969367922, max_depth = 5, subsample = 0.8976324718655304)\n",
        "xgb_classifier_tune.fit(X_train, y_train, verbose=True, eval_set=evaluation)\n",
        "y_pred_train = xgb_classifier_tune.predict(X_train)\n",
        "y_pred_test = xgb_classifier_tune.predict(X_test)\n",
        "y_pred_val = xgb_classifier_tune.predict(X_val)\n",
        "error = accuracy_score(y_train, y_pred_train)\n",
        "print('XGBoost')\n",
        "print('---------------------------------------')\n",
        "print('Train Classification Accuracy')\n",
        "print('---------------------------------------')\n",
        "print('\\tDataset: ', error*100)\n",
        "print('---------------------------------------')\n",
        "print('Train Classification Error')\n",
        "print('---------------------------------------')\n",
        "print('\\tDataset: ', (1-error)*100,'%')\n",
        "print('---------------------------------------')\n",
        "error = accuracy_score(y_test, y_pred_test)\n",
        "print('---------------------------------------')\n",
        "print('Test Classification Accuracy')\n",
        "print('---------------------------------------')\n",
        "print('\\tDataset: ', error*100, '%')\n",
        "print('---------------------------------------')\n",
        "print('Test Classification Error')\n",
        "print('---------------------------------------')\n",
        "print('\\tDataset: ', (1-error)*100,'%')\n",
        "print('---------------------------------------')\n",
        "error = accuracy_score(y_val, y_pred_val)\n",
        "print('---------------------------------------')\n",
        "print('Validation Classification Accuracy')\n",
        "print('---------------------------------------')\n",
        "print('\\tDataset: ', error*100, '%')\n",
        "print('---------------------------------------')\n",
        "print('Test Classification Error')\n",
        "print('---------------------------------------')\n",
        "print('\\tDataset: ', (1-error)*100,'%')\n",
        "print('---------------------------------------')"
      ],
      "metadata": {
        "colab": {
          "base_uri": "https://localhost:8080/"
        },
        "id": "i4Po_o7LE3XV",
        "outputId": "ecf434b2-1b0b-4c63-ee53-b707083cdf8b"
      },
      "id": "i4Po_o7LE3XV",
      "execution_count": null,
      "outputs": [
        {
          "output_type": "stream",
          "name": "stdout",
          "text": [
            "[0]\tvalidation_0-logloss:0.515964\tvalidation_1-logloss:0.516782\n",
            "[1]\tvalidation_0-logloss:0.428473\tvalidation_1-logloss:0.429121\n",
            "[2]\tvalidation_0-logloss:0.337309\tvalidation_1-logloss:0.338136\n",
            "[3]\tvalidation_0-logloss:0.27101\tvalidation_1-logloss:0.272044\n",
            "[4]\tvalidation_0-logloss:0.221342\tvalidation_1-logloss:0.222604\n",
            "[5]\tvalidation_0-logloss:0.183392\tvalidation_1-logloss:0.18465\n",
            "[6]\tvalidation_0-logloss:0.153902\tvalidation_1-logloss:0.155396\n",
            "[7]\tvalidation_0-logloss:0.130784\tvalidation_1-logloss:0.132196\n",
            "[8]\tvalidation_0-logloss:0.112543\tvalidation_1-logloss:0.114034\n",
            "[9]\tvalidation_0-logloss:0.09797\tvalidation_1-logloss:0.099691\n",
            "XGBoost\n",
            "---------------------------------------\n",
            "Train Classification Accuracy\n",
            "---------------------------------------\n",
            "\tDataset:  98.03445968551355\n",
            "---------------------------------------\n",
            "Train Classification Error\n",
            "---------------------------------------\n",
            "\tDataset:  1.965540314486447 %\n",
            "---------------------------------------\n",
            "---------------------------------------\n",
            "Test Classification Accuracy\n",
            "---------------------------------------\n",
            "\tDataset:  97.77289237239533 %\n",
            "---------------------------------------\n",
            "Test Classification Error\n",
            "---------------------------------------\n",
            "\tDataset:  2.227107627604663 %\n",
            "---------------------------------------\n",
            "---------------------------------------\n",
            "Validation Classification Accuracy\n",
            "---------------------------------------\n",
            "\tDataset:  97.94494360542917 %\n",
            "---------------------------------------\n",
            "Test Classification Error\n",
            "---------------------------------------\n",
            "\tDataset:  2.055056394570831 %\n",
            "---------------------------------------\n"
          ]
        }
      ]
    },
    {
      "cell_type": "markdown",
      "source": [
        "# FeedForward Neural Network"
      ],
      "metadata": {
        "id": "B-HEE_keePxs"
      },
      "id": "B-HEE_keePxs"
    },
    {
      "cell_type": "markdown",
      "source": [
        "#### Converting numpy to tensor values"
      ],
      "metadata": {
        "id": "W9pQha14K2h1"
      },
      "id": "W9pQha14K2h1"
    },
    {
      "cell_type": "code",
      "source": [
        "X_train = torch.from_numpy(X_train).float()\n",
        "y_train = torch.squeeze(torch.from_numpy(y_train.to_numpy()).float())\n",
        "X_test = torch.from_numpy(X_test).float()\n",
        "y_test = torch.squeeze(torch.from_numpy(y_test.to_numpy()).float())"
      ],
      "metadata": {
        "id": "IAFcxy0bd72g"
      },
      "id": "IAFcxy0bd72g",
      "execution_count": null,
      "outputs": []
    },
    {
      "cell_type": "code",
      "source": [
        "print(X_train.shape, y_train.shape)\n",
        "print(X_test.shape, y_test.shape)"
      ],
      "metadata": {
        "colab": {
          "base_uri": "https://localhost:8080/"
        },
        "id": "09bIS1oJd76L",
        "outputId": "653aca2e-96cb-4e6c-d90b-7882ec47f9c5"
      },
      "id": "09bIS1oJd76L",
      "execution_count": null,
      "outputs": [
        {
          "output_type": "stream",
          "name": "stdout",
          "text": [
            "torch.Size([83692, 71]) torch.Size([83692])\n",
            "torch.Size([10462, 71]) torch.Size([10462])\n"
          ]
        }
      ]
    },
    {
      "cell_type": "markdown",
      "source": [
        "#### Building Neural Network Model"
      ],
      "metadata": {
        "id": "3Aohhh9TLHsh"
      },
      "id": "3Aohhh9TLHsh"
    },
    {
      "cell_type": "code",
      "source": [
        "class Net(nn.Module):\n",
        "    def __init__(self, n_features):\n",
        "        super(Net, self).__init__()\n",
        "        self.fc1 = nn.Linear(n_features, 128)\n",
        "        self.fc2 = nn.Linear(128, 64)\n",
        "        self.fc3 = nn.Linear(64, 32)\n",
        "        self.fc4 = nn.Linear(32, 1)\n",
        "        \n",
        "    def forward(self, x):\n",
        "        x = F.relu(self.fc1(x))\n",
        "        x = F.relu(self.fc2(x))\n",
        "        x = F.relu(self.fc3(x))\n",
        "        \n",
        "        return torch.sigmoid(self.fc4(x))\n",
        "    \n",
        "net = Net(X_train.shape[1])"
      ],
      "metadata": {
        "id": "KUMhVGTud79F"
      },
      "id": "KUMhVGTud79F",
      "execution_count": null,
      "outputs": []
    },
    {
      "cell_type": "code",
      "source": [
        "criterion = nn.BCELoss()\n",
        "optimizer = torch.optim.Adam(net.parameters(), lr=0.001)"
      ],
      "metadata": {
        "id": "yd38hSP5d7_v"
      },
      "id": "yd38hSP5d7_v",
      "execution_count": null,
      "outputs": []
    },
    {
      "cell_type": "code",
      "source": [
        "device = torch.device(\"cuda:0\" if torch.cuda.is_available() else \"cpu\")\n",
        "X_train = X_train.to(device)\n",
        "y_train = y_train.to(device)\n",
        "X_test = X_test.to(device)\n",
        "y_test = y_test.to(device)\n",
        "net = net.to(device)\n",
        "criterion = criterion.to(device)"
      ],
      "metadata": {
        "id": "ebnIJM82d8C2"
      },
      "id": "ebnIJM82d8C2",
      "execution_count": null,
      "outputs": []
    },
    {
      "cell_type": "code",
      "source": [
        "#Accuracy\n",
        "def calculate_accuracy(y_true, y_pred):\n",
        "    pred = y_pred.ge(.5).view(-1)\n",
        "    return (y_true == pred).sum().float() / len(y_true)"
      ],
      "metadata": {
        "id": "XSLi0NeaLW3J"
      },
      "id": "XSLi0NeaLW3J",
      "execution_count": null,
      "outputs": []
    },
    {
      "cell_type": "code",
      "source": [
        "def round_tensor(t, decimal_places=3):\n",
        "    return round(t.item(), decimal_places)\n",
        "\n",
        "tr_loss = []\n",
        "tst_loss = []\n",
        "\n",
        "for epoch in range(1000):\n",
        "    y_pred = net(X_train)\n",
        "    y_pred = torch.squeeze(y_pred)\n",
        "    train_loss = criterion(y_pred, y_train)\n",
        "    tr_loss.append(train_loss)\n",
        "    \n",
        "    if epoch % 100 == 0:\n",
        "        \n",
        "        train_acc = calculate_accuracy(y_train, y_pred)\n",
        "        \n",
        "        y_test_pred = net(X_test)\n",
        "        y_test_pred = torch.squeeze(y_test_pred)\n",
        "        test_loss = criterion(y_test_pred, y_test)\n",
        "        tst_loss.append(test_loss)\n",
        "        \n",
        "        test_acc = calculate_accuracy(y_test, y_test_pred)\n",
        "        \n",
        "        print(\n",
        "            f'''epoch {epoch}\n",
        "            Train set - loss: {round_tensor(train_loss)}, accuracy: {round_tensor(train_acc)}\n",
        "            Test  set - loss: {round_tensor(test_loss)}, accuracy: {round_tensor(test_acc)}\n",
        "            ''')\n",
        "        \n",
        "    optimizer.zero_grad()\n",
        "    train_loss.backward()\n",
        "    optimizer.step()"
      ],
      "metadata": {
        "colab": {
          "base_uri": "https://localhost:8080/"
        },
        "id": "F9NdieHLLW5x",
        "outputId": "455305dd-b916-4967-c34e-2ca11e5dd10b"
      },
      "id": "F9NdieHLLW5x",
      "execution_count": null,
      "outputs": [
        {
          "output_type": "stream",
          "name": "stdout",
          "text": [
            "epoch 0\n",
            "            Train set - loss: 0.692, accuracy: 0.638\n",
            "            Test  set - loss: 0.692, accuracy: 0.642\n",
            "            \n",
            "epoch 100\n",
            "            Train set - loss: 0.042, accuracy: 0.979\n",
            "            Test  set - loss: 0.046, accuracy: 0.977\n",
            "            \n",
            "epoch 200\n",
            "            Train set - loss: 0.037, accuracy: 0.982\n",
            "            Test  set - loss: 0.04, accuracy: 0.98\n",
            "            \n",
            "epoch 300\n",
            "            Train set - loss: 0.035, accuracy: 0.983\n",
            "            Test  set - loss: 0.038, accuracy: 0.981\n",
            "            \n",
            "epoch 400\n",
            "            Train set - loss: 0.034, accuracy: 0.984\n",
            "            Test  set - loss: 0.038, accuracy: 0.982\n",
            "            \n",
            "epoch 500\n",
            "            Train set - loss: 0.033, accuracy: 0.985\n",
            "            Test  set - loss: 0.037, accuracy: 0.982\n",
            "            \n",
            "epoch 600\n",
            "            Train set - loss: 0.032, accuracy: 0.985\n",
            "            Test  set - loss: 0.037, accuracy: 0.982\n",
            "            \n",
            "epoch 700\n",
            "            Train set - loss: 0.031, accuracy: 0.986\n",
            "            Test  set - loss: 0.037, accuracy: 0.983\n",
            "            \n",
            "epoch 800\n",
            "            Train set - loss: 0.03, accuracy: 0.986\n",
            "            Test  set - loss: 0.037, accuracy: 0.983\n",
            "            \n",
            "epoch 900\n",
            "            Train set - loss: 0.03, accuracy: 0.986\n",
            "            Test  set - loss: 0.037, accuracy: 0.983\n",
            "            \n"
          ]
        }
      ]
    },
    {
      "cell_type": "markdown",
      "source": [
        "##### Plotting errors "
      ],
      "metadata": {
        "id": "-AC53PdkLmwF"
      },
      "id": "-AC53PdkLmwF"
    },
    {
      "cell_type": "code",
      "source": [
        "with torch.no_grad():\n",
        "    a = tr_loss\n",
        "    b = tst_loss\n",
        "    \n",
        "    plt.plot(a, color ='red', label = 'train_loss')\n",
        "    plt.plot(b, color='blue', label = 'test_loss')\n",
        "    \n",
        "    plt.title('Loss for train and test')\n",
        "    plt.legend()\n",
        "    plt.show()"
      ],
      "metadata": {
        "colab": {
          "base_uri": "https://localhost:8080/",
          "height": 281
        },
        "id": "RlHMcSaZLW8c",
        "outputId": "ea801df2-f094-4de5-f484-72337c4ba68d"
      },
      "id": "RlHMcSaZLW8c",
      "execution_count": null,
      "outputs": [
        {
          "output_type": "display_data",
          "data": {
            "text/plain": [
              "<Figure size 432x288 with 1 Axes>"
            ],
            "image/png": "[encoded data removed]"
          },
          "metadata": {
            "needs_background": "light"
          }
        }
      ]
    },
    {
      "cell_type": "code",
      "source": [
        "#Saving the model\n",
        "\n",
        "MODEL_PATH = 'model.pth'\n",
        "torch.save(net, MODEL_PATH)\n",
        "\n",
        "net = torch.load(MODEL_PATH)"
      ],
      "metadata": {
        "id": "bSYF0dvpLW-u"
      },
      "id": "bSYF0dvpLW-u",
      "execution_count": null,
      "outputs": []
    },
    {
      "cell_type": "code",
      "source": [
        "from sklearn.metrics import classification_report\n",
        "classes = ['1', '0']\n",
        "\n",
        "y_pred = net(X_test)\n",
        "\n",
        "y_pred = y_pred.ge(.5).view(-1).cpu()\n",
        "y_test = y_test.cpu()\n",
        "\n",
        "print(classification_report(y_test, y_pred, target_names=classes))"
      ],
      "metadata": {
        "colab": {
          "base_uri": "https://localhost:8080/"
        },
        "id": "8LvEc8E6LXCn",
        "outputId": "fd02c398-9fc7-4c68-e7ff-762bd705372a"
      },
      "id": "8LvEc8E6LXCn",
      "execution_count": null,
      "outputs": [
        {
          "output_type": "stream",
          "name": "stdout",
          "text": [
            "              precision    recall  f1-score   support\n",
            "\n",
            "           1       0.98      0.98      0.98      5283\n",
            "           0       0.98      0.98      0.98      5179\n",
            "\n",
            "    accuracy                           0.98     10462\n",
            "   macro avg       0.98      0.98      0.98     10462\n",
            "weighted avg       0.98      0.98      0.98     10462\n",
            "\n"
          ]
        }
      ]
    },
    {
      "cell_type": "code",
      "source": [
        "cm = confusion_matrix(y_test, y_pred)\n",
        "df_cm = pd.DataFrame(cm, index=classes, columns=classes)\n",
        "hmap = sns.heatmap(df_cm, annot=True, fmt=\"d\")\n",
        "hmap.yaxis.set_ticklabels(hmap.yaxis.get_ticklabels(), rotation=0, ha='right')\n",
        "hmap.xaxis.set_ticklabels(hmap.xaxis.get_ticklabels(), rotation=0, ha='right')\n",
        "plt.ylabel('True label')\n",
        "plt.xlabel('Predicted label')"
      ],
      "metadata": {
        "colab": {
          "base_uri": "https://localhost:8080/",
          "height": 296
        },
        "id": "Glhb_0XxMDFr",
        "outputId": "e2540577-c3b3-4abd-e454-ccf3883e846a"
      },
      "id": "Glhb_0XxMDFr",
      "execution_count": null,
      "outputs": [
        {
          "output_type": "execute_result",
          "data": {
            "text/plain": [
              "Text(0.5, 15.0, 'Predicted label')"
            ]
          },
          "metadata": {},
          "execution_count": 51
        },
        {
          "output_type": "display_data",
          "data": {
            "text/plain": [
              "<Figure size 432x288 with 2 Axes>"
            ],
            "image/png": "[encoded data removed]"
          },
          "metadata": {
            "needs_background": "light"
          }
        }
      ]
    }
  ],
  "metadata": {
    "kernelspec": {
      "display_name": "Python 3 (ipykernel)",
      "language": "python",
      "name": "python3"
    },
    "language_info": {
      "codemirror_mode": {
        "name": "ipython",
        "version": 3
      },
      "file_extension": ".py",
      "mimetype": "text/x-python",
      "name": "python",
      "nbconvert_exporter": "python",
      "pygments_lexer": "ipython3",
      "version": "3.8.9"
    },
    "colab": {
      "name": "ML Project.ipynb",
      "provenance": [],
      "collapsed_sections": []
    }
  },
  "nbformat": 4,
  "nbformat_minor": 5
}